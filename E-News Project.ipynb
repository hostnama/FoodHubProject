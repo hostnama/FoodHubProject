{
 "cells": [
  {
   "cell_type": "markdown",
   "id": "4d730af6",
   "metadata": {},
   "source": [
    "# E-News Express Project"
   ]
  },
  {
   "cell_type": "code",
   "execution_count": 294,
   "id": "88fbaaf5",
   "metadata": {},
   "outputs": [
    {
     "data": {
      "text/plain": [
       "'1.6.1'"
      ]
     },
     "execution_count": 294,
     "metadata": {},
     "output_type": "execute_result"
    }
   ],
   "source": [
    "import scipy #import scipy pacakge and max sure version is correct\n",
    "scipy.__version__"
   ]
  },
  {
   "cell_type": "code",
   "execution_count": 295,
   "id": "26269eca",
   "metadata": {},
   "outputs": [],
   "source": [
    "#import the important packages\n",
    "import pandas as pd #library used for data manipulation and analysis\n",
    "import numpy as np # library used for working with arrays\n",
    "import matplotlib.pyplot as plt # library for plots and visualisations\n",
    "import seaborn as sns # library for visualisations\n",
    "%matplotlib inline \n",
    "\n",
    "import scipy.stats as stats "
   ]
  },
  {
   "cell_type": "code",
   "execution_count": 296,
   "id": "e70600d9",
   "metadata": {},
   "outputs": [],
   "source": [
    "import warnings\n",
    "warnings.filterwarnings(\"ignore\") #used this line of code to ignore all warnings, which can be dangerous"
   ]
  },
  {
   "cell_type": "markdown",
   "id": "280c8b71",
   "metadata": {},
   "source": [
    "## Q1. EDA"
   ]
  },
  {
   "cell_type": "code",
   "execution_count": 297,
   "id": "704f284b",
   "metadata": {
    "scrolled": true
   },
   "outputs": [
    {
     "data": {
      "text/html": [
       "<div>\n",
       "<style scoped>\n",
       "    .dataframe tbody tr th:only-of-type {\n",
       "        vertical-align: middle;\n",
       "    }\n",
       "\n",
       "    .dataframe tbody tr th {\n",
       "        vertical-align: top;\n",
       "    }\n",
       "\n",
       "    .dataframe thead th {\n",
       "        text-align: right;\n",
       "    }\n",
       "</style>\n",
       "<table border=\"1\" class=\"dataframe\">\n",
       "  <thead>\n",
       "    <tr style=\"text-align: right;\">\n",
       "      <th></th>\n",
       "      <th>user_id</th>\n",
       "      <th>group</th>\n",
       "      <th>landing_page</th>\n",
       "      <th>time_spent_on_the_page</th>\n",
       "      <th>converted</th>\n",
       "      <th>language_preferred</th>\n",
       "    </tr>\n",
       "  </thead>\n",
       "  <tbody>\n",
       "    <tr>\n",
       "      <th>0</th>\n",
       "      <td>546592</td>\n",
       "      <td>control</td>\n",
       "      <td>old</td>\n",
       "      <td>3.48</td>\n",
       "      <td>no</td>\n",
       "      <td>Spanish</td>\n",
       "    </tr>\n",
       "    <tr>\n",
       "      <th>1</th>\n",
       "      <td>546468</td>\n",
       "      <td>treatment</td>\n",
       "      <td>new</td>\n",
       "      <td>7.13</td>\n",
       "      <td>yes</td>\n",
       "      <td>English</td>\n",
       "    </tr>\n",
       "    <tr>\n",
       "      <th>2</th>\n",
       "      <td>546462</td>\n",
       "      <td>treatment</td>\n",
       "      <td>new</td>\n",
       "      <td>4.40</td>\n",
       "      <td>no</td>\n",
       "      <td>Spanish</td>\n",
       "    </tr>\n",
       "    <tr>\n",
       "      <th>3</th>\n",
       "      <td>546567</td>\n",
       "      <td>control</td>\n",
       "      <td>old</td>\n",
       "      <td>3.02</td>\n",
       "      <td>no</td>\n",
       "      <td>French</td>\n",
       "    </tr>\n",
       "    <tr>\n",
       "      <th>4</th>\n",
       "      <td>546459</td>\n",
       "      <td>treatment</td>\n",
       "      <td>new</td>\n",
       "      <td>4.75</td>\n",
       "      <td>yes</td>\n",
       "      <td>Spanish</td>\n",
       "    </tr>\n",
       "  </tbody>\n",
       "</table>\n",
       "</div>"
      ],
      "text/plain": [
       "   user_id      group landing_page  time_spent_on_the_page converted  \\\n",
       "0   546592    control          old                    3.48        no   \n",
       "1   546468  treatment          new                    7.13       yes   \n",
       "2   546462  treatment          new                    4.40        no   \n",
       "3   546567    control          old                    3.02        no   \n",
       "4   546459  treatment          new                    4.75       yes   \n",
       "\n",
       "  language_preferred  \n",
       "0            Spanish  \n",
       "1            English  \n",
       "2            Spanish  \n",
       "3             French  \n",
       "4            Spanish  "
      ]
     },
     "execution_count": 297,
     "metadata": {},
     "output_type": "execute_result"
    }
   ],
   "source": [
    "data = pd.read_csv('abtest.csv') #reads the dataframe that we will be working with into our notebook\n",
    "data.head() #shows the head of table"
   ]
  },
  {
   "cell_type": "code",
   "execution_count": 298,
   "id": "3e7816e2",
   "metadata": {},
   "outputs": [
    {
     "data": {
      "text/plain": [
       "(100, 6)"
      ]
     },
     "execution_count": 298,
     "metadata": {},
     "output_type": "execute_result"
    }
   ],
   "source": [
    "data.shape #displays there are 100 observations with 6 total variables including user_id"
   ]
  },
  {
   "cell_type": "code",
   "execution_count": 299,
   "id": "2a518888",
   "metadata": {},
   "outputs": [
    {
     "data": {
      "text/plain": [
       "user_id                     int64\n",
       "group                      object\n",
       "landing_page               object\n",
       "time_spent_on_the_page    float64\n",
       "converted                  object\n",
       "language_preferred         object\n",
       "dtype: object"
      ]
     },
     "execution_count": 299,
     "metadata": {},
     "output_type": "execute_result"
    }
   ],
   "source": [
    "data.dtypes #displays what type of data each variable is"
   ]
  },
  {
   "cell_type": "code",
   "execution_count": 300,
   "id": "6cae1d3e",
   "metadata": {},
   "outputs": [],
   "source": [
    "cols = ['group', 'landing_page', 'language_preferred', 'converted'] #stores the object data types into a variable, \"cols\"\n",
    "data[cols] = data[cols].astype('category') #changes all object variable to categorical variables"
   ]
  },
  {
   "cell_type": "code",
   "execution_count": 301,
   "id": "b5c032ee",
   "metadata": {},
   "outputs": [
    {
     "name": "stdout",
     "output_type": "stream",
     "text": [
      "<class 'pandas.core.frame.DataFrame'>\n",
      "RangeIndex: 100 entries, 0 to 99\n",
      "Data columns (total 6 columns):\n",
      " #   Column                  Non-Null Count  Dtype   \n",
      "---  ------                  --------------  -----   \n",
      " 0   user_id                 100 non-null    int64   \n",
      " 1   group                   100 non-null    category\n",
      " 2   landing_page            100 non-null    category\n",
      " 3   time_spent_on_the_page  100 non-null    float64 \n",
      " 4   converted               100 non-null    category\n",
      " 5   language_preferred      100 non-null    category\n",
      "dtypes: category(4), float64(1), int64(1)\n",
      "memory usage: 2.6 KB\n"
     ]
    },
    {
     "data": {
      "text/plain": [
       "user_id                   0\n",
       "group                     0\n",
       "landing_page              0\n",
       "time_spent_on_the_page    0\n",
       "converted                 0\n",
       "language_preferred        0\n",
       "dtype: int64"
      ]
     },
     "execution_count": 301,
     "metadata": {},
     "output_type": "execute_result"
    }
   ],
   "source": [
    "data.info() #displays data type of columns and checks for nulls\n",
    "data.isnull().sum() #checks for null counts in dataframe"
   ]
  },
  {
   "cell_type": "code",
   "execution_count": 302,
   "id": "ae5111ea",
   "metadata": {},
   "outputs": [
    {
     "data": {
      "text/html": [
       "<div>\n",
       "<style scoped>\n",
       "    .dataframe tbody tr th:only-of-type {\n",
       "        vertical-align: middle;\n",
       "    }\n",
       "\n",
       "    .dataframe tbody tr th {\n",
       "        vertical-align: top;\n",
       "    }\n",
       "\n",
       "    .dataframe thead th {\n",
       "        text-align: right;\n",
       "    }\n",
       "</style>\n",
       "<table border=\"1\" class=\"dataframe\">\n",
       "  <thead>\n",
       "    <tr style=\"text-align: right;\">\n",
       "      <th></th>\n",
       "      <th>user_id</th>\n",
       "      <th>time_spent_on_the_page</th>\n",
       "    </tr>\n",
       "  </thead>\n",
       "  <tbody>\n",
       "    <tr>\n",
       "      <th>count</th>\n",
       "      <td>100.000000</td>\n",
       "      <td>100.000000</td>\n",
       "    </tr>\n",
       "    <tr>\n",
       "      <th>mean</th>\n",
       "      <td>546517.000000</td>\n",
       "      <td>5.377800</td>\n",
       "    </tr>\n",
       "    <tr>\n",
       "      <th>std</th>\n",
       "      <td>52.295779</td>\n",
       "      <td>2.378166</td>\n",
       "    </tr>\n",
       "    <tr>\n",
       "      <th>min</th>\n",
       "      <td>546443.000000</td>\n",
       "      <td>0.190000</td>\n",
       "    </tr>\n",
       "    <tr>\n",
       "      <th>25%</th>\n",
       "      <td>546467.750000</td>\n",
       "      <td>3.880000</td>\n",
       "    </tr>\n",
       "    <tr>\n",
       "      <th>50%</th>\n",
       "      <td>546492.500000</td>\n",
       "      <td>5.415000</td>\n",
       "    </tr>\n",
       "    <tr>\n",
       "      <th>75%</th>\n",
       "      <td>546567.250000</td>\n",
       "      <td>7.022500</td>\n",
       "    </tr>\n",
       "    <tr>\n",
       "      <th>max</th>\n",
       "      <td>546592.000000</td>\n",
       "      <td>10.710000</td>\n",
       "    </tr>\n",
       "  </tbody>\n",
       "</table>\n",
       "</div>"
      ],
      "text/plain": [
       "             user_id  time_spent_on_the_page\n",
       "count     100.000000              100.000000\n",
       "mean   546517.000000                5.377800\n",
       "std        52.295779                2.378166\n",
       "min    546443.000000                0.190000\n",
       "25%    546467.750000                3.880000\n",
       "50%    546492.500000                5.415000\n",
       "75%    546567.250000                7.022500\n",
       "max    546592.000000               10.710000"
      ]
     },
     "execution_count": 302,
     "metadata": {},
     "output_type": "execute_result"
    }
   ],
   "source": [
    "data.describe() #displays summary statistics of integer data, does not account for other variables"
   ]
  },
  {
   "cell_type": "markdown",
   "id": "2ba7c100",
   "metadata": {},
   "source": [
    "## EDA - Univariate Analysis"
   ]
  },
  {
   "cell_type": "code",
   "execution_count": 303,
   "id": "69df2bc4",
   "metadata": {},
   "outputs": [
    {
     "data": {
      "text/plain": [
       "<matplotlib.legend.Legend at 0x1e1e687fa30>"
      ]
     },
     "execution_count": 303,
     "metadata": {},
     "output_type": "execute_result"
    },
    {
     "data": {
      "image/png": "[encoded data removed]",
      "text/plain": [
       "<Figure size 432x288 with 1 Axes>"
      ]
     },
     "metadata": {
      "needs_background": "light"
     },
     "output_type": "display_data"
    }
   ],
   "source": [
    "sns.distplot(data['time_spent_on_the_page']) #plotted a distplot to see that the average time spent on page is a normalized distribution\n",
    "mean=data['time_spent_on_the_page'].mean() #assigns the mean of time spent on page to variable \"mean\"\n",
    "median=data['time_spent_on_the_page'].median() #assigns the median of time spent on page to variable \"median\"\n",
    "plt.axvline(mean, color='r', linestyle='--') #plots the mean on the graph \n",
    "plt.axvline(median, color='g', linestyle='-') #plost the median on the graph \n",
    "plt.legend({'Mean':mean,'Median':median}) #creates a legend on the graph showing mean and median"
   ]
  },
  {
   "cell_type": "code",
   "execution_count": 304,
   "id": "0882fce9",
   "metadata": {},
   "outputs": [
    {
     "name": "stdout",
     "output_type": "stream",
     "text": [
      "NormaltestResult(statistic=0.5891950963743156, pvalue=0.7448312858560384)\n"
     ]
    }
   ],
   "source": [
    "print(stats.normaltest(data[\"time_spent_on_the_page\"])) #This test confirms that the data is normanlly distributed pvalue higher than alpha"
   ]
  },
  {
   "cell_type": "code",
   "execution_count": 305,
   "id": "bfbe5f5d",
   "metadata": {},
   "outputs": [
    {
     "data": {
      "text/html": [
       "<div>\n",
       "<style scoped>\n",
       "    .dataframe tbody tr th:only-of-type {\n",
       "        vertical-align: middle;\n",
       "    }\n",
       "\n",
       "    .dataframe tbody tr th {\n",
       "        vertical-align: top;\n",
       "    }\n",
       "\n",
       "    .dataframe thead th {\n",
       "        text-align: right;\n",
       "    }\n",
       "</style>\n",
       "<table border=\"1\" class=\"dataframe\">\n",
       "  <thead>\n",
       "    <tr style=\"text-align: right;\">\n",
       "      <th></th>\n",
       "      <th>user_id</th>\n",
       "      <th>landing_page</th>\n",
       "      <th>time_spent_on_the_page</th>\n",
       "      <th>converted</th>\n",
       "      <th>language_preferred</th>\n",
       "    </tr>\n",
       "    <tr>\n",
       "      <th>group</th>\n",
       "      <th></th>\n",
       "      <th></th>\n",
       "      <th></th>\n",
       "      <th></th>\n",
       "      <th></th>\n",
       "    </tr>\n",
       "  </thead>\n",
       "  <tbody>\n",
       "    <tr>\n",
       "      <th>control</th>\n",
       "      <td>50</td>\n",
       "      <td>50</td>\n",
       "      <td>50</td>\n",
       "      <td>50</td>\n",
       "      <td>50</td>\n",
       "    </tr>\n",
       "    <tr>\n",
       "      <th>treatment</th>\n",
       "      <td>50</td>\n",
       "      <td>50</td>\n",
       "      <td>50</td>\n",
       "      <td>50</td>\n",
       "      <td>50</td>\n",
       "    </tr>\n",
       "  </tbody>\n",
       "</table>\n",
       "</div>"
      ],
      "text/plain": [
       "           user_id  landing_page  time_spent_on_the_page  converted  \\\n",
       "group                                                                 \n",
       "control         50            50                      50         50   \n",
       "treatment       50            50                      50         50   \n",
       "\n",
       "           language_preferred  \n",
       "group                          \n",
       "control                    50  \n",
       "treatment                  50  "
      ]
     },
     "execution_count": 305,
     "metadata": {},
     "output_type": "execute_result"
    }
   ],
   "source": [
    "data.groupby('group').count() #to confirm how many people are in each group"
   ]
  },
  {
   "cell_type": "code",
   "execution_count": 306,
   "id": "e9c551ad",
   "metadata": {},
   "outputs": [
    {
     "data": {
      "text/html": [
       "<div>\n",
       "<style scoped>\n",
       "    .dataframe tbody tr th:only-of-type {\n",
       "        vertical-align: middle;\n",
       "    }\n",
       "\n",
       "    .dataframe tbody tr th {\n",
       "        vertical-align: top;\n",
       "    }\n",
       "\n",
       "    .dataframe thead th {\n",
       "        text-align: right;\n",
       "    }\n",
       "</style>\n",
       "<table border=\"1\" class=\"dataframe\">\n",
       "  <thead>\n",
       "    <tr style=\"text-align: right;\">\n",
       "      <th></th>\n",
       "      <th>user_id</th>\n",
       "      <th>group</th>\n",
       "      <th>time_spent_on_the_page</th>\n",
       "      <th>converted</th>\n",
       "      <th>language_preferred</th>\n",
       "    </tr>\n",
       "    <tr>\n",
       "      <th>landing_page</th>\n",
       "      <th></th>\n",
       "      <th></th>\n",
       "      <th></th>\n",
       "      <th></th>\n",
       "      <th></th>\n",
       "    </tr>\n",
       "  </thead>\n",
       "  <tbody>\n",
       "    <tr>\n",
       "      <th>new</th>\n",
       "      <td>50</td>\n",
       "      <td>50</td>\n",
       "      <td>50</td>\n",
       "      <td>50</td>\n",
       "      <td>50</td>\n",
       "    </tr>\n",
       "    <tr>\n",
       "      <th>old</th>\n",
       "      <td>50</td>\n",
       "      <td>50</td>\n",
       "      <td>50</td>\n",
       "      <td>50</td>\n",
       "      <td>50</td>\n",
       "    </tr>\n",
       "  </tbody>\n",
       "</table>\n",
       "</div>"
      ],
      "text/plain": [
       "              user_id  group  time_spent_on_the_page  converted  \\\n",
       "landing_page                                                      \n",
       "new                50     50                      50         50   \n",
       "old                50     50                      50         50   \n",
       "\n",
       "              language_preferred  \n",
       "landing_page                      \n",
       "new                           50  \n",
       "old                           50  "
      ]
     },
     "execution_count": 306,
     "metadata": {},
     "output_type": "execute_result"
    }
   ],
   "source": [
    "data.groupby('landing_page').count() #to confirm how may received old and new landing pages"
   ]
  },
  {
   "cell_type": "code",
   "execution_count": 307,
   "id": "7cb18113",
   "metadata": {},
   "outputs": [
    {
     "data": {
      "text/html": [
       "<div>\n",
       "<style scoped>\n",
       "    .dataframe tbody tr th:only-of-type {\n",
       "        vertical-align: middle;\n",
       "    }\n",
       "\n",
       "    .dataframe tbody tr th {\n",
       "        vertical-align: top;\n",
       "    }\n",
       "\n",
       "    .dataframe thead th {\n",
       "        text-align: right;\n",
       "    }\n",
       "</style>\n",
       "<table border=\"1\" class=\"dataframe\">\n",
       "  <thead>\n",
       "    <tr style=\"text-align: right;\">\n",
       "      <th></th>\n",
       "      <th>user_id</th>\n",
       "      <th>group</th>\n",
       "      <th>landing_page</th>\n",
       "      <th>time_spent_on_the_page</th>\n",
       "      <th>converted</th>\n",
       "    </tr>\n",
       "    <tr>\n",
       "      <th>language_preferred</th>\n",
       "      <th></th>\n",
       "      <th></th>\n",
       "      <th></th>\n",
       "      <th></th>\n",
       "      <th></th>\n",
       "    </tr>\n",
       "  </thead>\n",
       "  <tbody>\n",
       "    <tr>\n",
       "      <th>English</th>\n",
       "      <td>32</td>\n",
       "      <td>32</td>\n",
       "      <td>32</td>\n",
       "      <td>32</td>\n",
       "      <td>32</td>\n",
       "    </tr>\n",
       "    <tr>\n",
       "      <th>French</th>\n",
       "      <td>34</td>\n",
       "      <td>34</td>\n",
       "      <td>34</td>\n",
       "      <td>34</td>\n",
       "      <td>34</td>\n",
       "    </tr>\n",
       "    <tr>\n",
       "      <th>Spanish</th>\n",
       "      <td>34</td>\n",
       "      <td>34</td>\n",
       "      <td>34</td>\n",
       "      <td>34</td>\n",
       "      <td>34</td>\n",
       "    </tr>\n",
       "  </tbody>\n",
       "</table>\n",
       "</div>"
      ],
      "text/plain": [
       "                    user_id  group  landing_page  time_spent_on_the_page  \\\n",
       "language_preferred                                                         \n",
       "English                  32     32            32                      32   \n",
       "French                   34     34            34                      34   \n",
       "Spanish                  34     34            34                      34   \n",
       "\n",
       "                    converted  \n",
       "language_preferred             \n",
       "English                    32  \n",
       "French                     34  \n",
       "Spanish                    34  "
      ]
     },
     "execution_count": 307,
     "metadata": {},
     "output_type": "execute_result"
    }
   ],
   "source": [
    "data.groupby('language_preferred').count() #to see the most common languages preferred"
   ]
  },
  {
   "cell_type": "code",
   "execution_count": 308,
   "id": "752044d4",
   "metadata": {},
   "outputs": [
    {
     "data": {
      "text/html": [
       "<div>\n",
       "<style scoped>\n",
       "    .dataframe tbody tr th:only-of-type {\n",
       "        vertical-align: middle;\n",
       "    }\n",
       "\n",
       "    .dataframe tbody tr th {\n",
       "        vertical-align: top;\n",
       "    }\n",
       "\n",
       "    .dataframe thead th {\n",
       "        text-align: right;\n",
       "    }\n",
       "</style>\n",
       "<table border=\"1\" class=\"dataframe\">\n",
       "  <thead>\n",
       "    <tr style=\"text-align: right;\">\n",
       "      <th></th>\n",
       "      <th>user_id</th>\n",
       "      <th>group</th>\n",
       "      <th>landing_page</th>\n",
       "      <th>time_spent_on_the_page</th>\n",
       "      <th>language_preferred</th>\n",
       "    </tr>\n",
       "    <tr>\n",
       "      <th>converted</th>\n",
       "      <th></th>\n",
       "      <th></th>\n",
       "      <th></th>\n",
       "      <th></th>\n",
       "      <th></th>\n",
       "    </tr>\n",
       "  </thead>\n",
       "  <tbody>\n",
       "    <tr>\n",
       "      <th>no</th>\n",
       "      <td>46</td>\n",
       "      <td>46</td>\n",
       "      <td>46</td>\n",
       "      <td>46</td>\n",
       "      <td>46</td>\n",
       "    </tr>\n",
       "    <tr>\n",
       "      <th>yes</th>\n",
       "      <td>54</td>\n",
       "      <td>54</td>\n",
       "      <td>54</td>\n",
       "      <td>54</td>\n",
       "      <td>54</td>\n",
       "    </tr>\n",
       "  </tbody>\n",
       "</table>\n",
       "</div>"
      ],
      "text/plain": [
       "           user_id  group  landing_page  time_spent_on_the_page  \\\n",
       "converted                                                         \n",
       "no              46     46            46                      46   \n",
       "yes             54     54            54                      54   \n",
       "\n",
       "           language_preferred  \n",
       "converted                      \n",
       "no                         46  \n",
       "yes                        54  "
      ]
     },
     "execution_count": 308,
     "metadata": {},
     "output_type": "execute_result"
    }
   ],
   "source": [
    "data.groupby('converted').count() #to see how many people converted"
   ]
  },
  {
   "cell_type": "markdown",
   "id": "799333b6",
   "metadata": {},
   "source": [
    " From doing our univariate analysis, we see that there is an even number of subjects who are in the control and treatment group, as well as an even number of those given the new and old landing pages.  We also see that the time a subject spent on the page is normally distributed with a mean of 5.38 and a standard deviation of 2.38.  The data has been cleaned, there are 100 rows of data and no null values."
   ]
  },
  {
   "cell_type": "markdown",
   "id": "eb6e7990",
   "metadata": {},
   "source": [
    "## EDA - Multivariate Analysis"
   ]
  },
  {
   "cell_type": "code",
   "execution_count": 309,
   "id": "4b2641d4",
   "metadata": {},
   "outputs": [
    {
     "data": {
      "image/png": "[encoded data removed]",
      "text/plain": [
       "<Figure size 432x288 with 1 Axes>"
      ]
     },
     "metadata": {
      "needs_background": "light"
     },
     "output_type": "display_data"
    }
   ],
   "source": [
    "ax = sns.barplot(x='group', y='time_spent_on_the_page', data=data, palette='muted') #plots how much time each group spent on page"
   ]
  },
  {
   "cell_type": "code",
   "execution_count": 310,
   "id": "41064359",
   "metadata": {},
   "outputs": [
    {
     "data": {
      "image/png": "[encoded data removed]",
      "text/plain": [
       "<Figure size 432x288 with 1 Axes>"
      ]
     },
     "metadata": {
      "needs_background": "light"
     },
     "output_type": "display_data"
    }
   ],
   "source": [
    "ax = sns.barplot(x='landing_page', y='time_spent_on_the_page', data=data, palette='muted') #plots how much time people spent on landing page by which they were given"
   ]
  },
  {
   "cell_type": "code",
   "execution_count": 311,
   "id": "06b8a2e9",
   "metadata": {},
   "outputs": [
    {
     "data": {
      "image/png": "[encoded data removed]",
      "text/plain": [
       "<Figure size 432x288 with 1 Axes>"
      ]
     },
     "metadata": {
      "needs_background": "light"
     },
     "output_type": "display_data"
    }
   ],
   "source": [
    "ax = sns.barplot(x='converted', y='time_spent_on_the_page', data=data, palette='muted') #plots how much time people who converted and did not spent on landing page"
   ]
  },
  {
   "cell_type": "code",
   "execution_count": 312,
   "id": "492235bf",
   "metadata": {},
   "outputs": [
    {
     "data": {
      "image/png": "[encoded data removed]",
      "text/plain": [
       "<Figure size 432x288 with 1 Axes>"
      ]
     },
     "metadata": {
      "needs_background": "light"
     },
     "output_type": "display_data"
    }
   ],
   "source": [
    "ax = sns.barplot(x='language_preferred', y='time_spent_on_the_page', data=data, palette='muted') #plots how much time people of different language spent on landing page"
   ]
  },
  {
   "cell_type": "code",
   "execution_count": 313,
   "id": "b6035f44",
   "metadata": {},
   "outputs": [
    {
     "data": {
      "image/png": "[encoded data removed]",
      "text/plain": [
       "<Figure size 432x288 with 1 Axes>"
      ]
     },
     "metadata": {
      "needs_background": "light"
     },
     "output_type": "display_data"
    }
   ],
   "source": [
    "sns.barplot(data=data,x='language_preferred',y='time_spent_on_the_page',hue='converted') #plots how much time different language speakers spent on page grouped by whether they converted\n",
    "plt.show()"
   ]
  },
  {
   "cell_type": "code",
   "execution_count": 314,
   "id": "ca900c65",
   "metadata": {},
   "outputs": [
    {
     "data": {
      "image/png": "[encoded data removed]",
      "text/plain": [
       "<Figure size 432x288 with 1 Axes>"
      ]
     },
     "metadata": {
      "needs_background": "light"
     },
     "output_type": "display_data"
    }
   ],
   "source": [
    "sns.barplot(data=data,x='landing_page',y='time_spent_on_the_page',hue='converted') #plots how much time people spend on landing page, whether they were given old or new grouped by whether they converted\n",
    "plt.show()"
   ]
  },
  {
   "cell_type": "code",
   "execution_count": 315,
   "id": "2788d02b",
   "metadata": {
    "scrolled": true
   },
   "outputs": [
    {
     "data": {
      "image/png": "[encoded data removed]",
      "text/plain": [
       "<Figure size 432x288 with 1 Axes>"
      ]
     },
     "metadata": {
      "needs_background": "light"
     },
     "output_type": "display_data"
    }
   ],
   "source": [
    "ax1 = data.groupby(['landing_page'])['converted'].value_counts().plot(kind='bar',stacked = True) #plots how many people converted and received the new or old landing page "
   ]
  },
  {
   "cell_type": "code",
   "execution_count": 316,
   "id": "b4aa834b",
   "metadata": {},
   "outputs": [
    {
     "data": {
      "text/plain": [
       "<AxesSubplot:xlabel='language_preferred', ylabel='Count'>"
      ]
     },
     "execution_count": 316,
     "metadata": {},
     "output_type": "execute_result"
    },
    {
     "data": {
      "image/png": "[encoded data removed]",
      "text/plain": [
       "<Figure size 432x288 with 1 Axes>"
      ]
     },
     "metadata": {
      "needs_background": "light"
     },
     "output_type": "display_data"
    }
   ],
   "source": [
    "sns.histplot(binwidth=0.1, x=\"language_preferred\", hue=\"converted\", data=data, stat=\"count\", multiple=\"dodge\") \n",
    "#this plot shows us if there is any correlation between conversion and language preferred."
   ]
  },
  {
   "cell_type": "markdown",
   "id": "3f5732af",
   "metadata": {},
   "source": [
    "From our multivariate analysis, we can see that there is a strong correlation that those who were in the new landing page group spent more time on the landing page and also were more likely to convert than those who received the old landing page.  We also see there is not much of a difference in converts and time spent based on language preferred.  We do see that , overall, people with an English preference marginally spent the most time on the landing page, but people with a French preference, who converted, marginally spend the most time on the landing page out of everyone who converted. We can also see that prefererd English readers are most likely to convert, while preferred French readers are least likely."
   ]
  },
  {
   "cell_type": "markdown",
   "id": "619a368e",
   "metadata": {},
   "source": [
    "## Q2. Do the users spend more time on the new landing page than the old landing page?"
   ]
  },
  {
   "cell_type": "code",
   "execution_count": 317,
   "id": "c6636eeb",
   "metadata": {},
   "outputs": [
    {
     "data": {
      "image/png": "[encoded data removed]",
      "text/plain": [
       "<Figure size 432x288 with 1 Axes>"
      ]
     },
     "metadata": {
      "needs_background": "light"
     },
     "output_type": "display_data"
    }
   ],
   "source": [
    "ax = sns.barplot(x='landing_page', y='time_spent_on_the_page', data=data, palette='muted') #plots how much time people spent on landing page by which they were given"
   ]
  },
  {
   "cell_type": "markdown",
   "id": "02da67dd",
   "metadata": {},
   "source": [
    "Without doing any statistical testing, we can see from the graph what the likely outcome of our test will be. The hypothesis\n",
    "<br> would be that people with the new landing page spend more time, on average, on the page than those with the old landing page.\n",
    "<br> But, we need to prove it with a test.\n",
    "<br> Let's start by finding out what the means and stds are of our 2 samples and decide what kind of test to use."
   ]
  },
  {
   "cell_type": "code",
   "execution_count": 318,
   "id": "da0a5fd2",
   "metadata": {},
   "outputs": [
    {
     "name": "stdout",
     "output_type": "stream",
     "text": [
      "landing_page\n",
      "new    6.2232\n",
      "old    4.5324\n",
      "Name: time_spent_on_the_page, dtype: float64\n",
      "landing_page\n",
      "new    1.817031\n",
      "old    2.581975\n",
      "Name: time_spent_on_the_page, dtype: float64\n"
     ]
    }
   ],
   "source": [
    "print(data.groupby('landing_page')['time_spent_on_the_page'].mean()) #This tells us the means of time spent on the page on old and new landing pages\n",
    "print(data.groupby('landing_page')['time_spent_on_the_page'].std())  #This tells us the standard deviations of time spent on the page on old and new landing pages\n",
    "\n",
    "#We need this to be able to tell if we can run a 2 sample independent t-test"
   ]
  },
  {
   "cell_type": "markdown",
   "id": "a6434ff5",
   "metadata": {},
   "source": [
    "Given that we have 2 independent samples with unequal standard deviations, we should use an independent 2 sample t-test.\n",
    "<br> Let's see if the data meets our independent 2 sample t-test assumptions."
   ]
  },
  {
   "cell_type": "markdown",
   "id": "8814243f",
   "metadata": {},
   "source": [
    "### Assumptions\n",
    "Continuous data - Yes, time spent on the page is continuous\n",
    "<br>Normally distributed populations - Yes, from the CLT, we know our data is normal, but we also plotted to double check.\n",
    "<br> Independent populations - There are 2 separate sample groups from 2 separate populations. They are indepedent.\n",
    "<br> Unequal population standard deviations - The standard deviations are different, so population std is assumed to be as well.\n",
    "<br> Random sampling from the population - Yes, the background states that all sampling was random\n",
    "<br>We can use a 2 sample T-Test."
   ]
  },
  {
   "cell_type": "markdown",
   "id": "8588dc39",
   "metadata": {},
   "source": [
    "### Hypotheses\n",
    "<br>u1 = avg time spent on old landing page \n",
    "<br>u2= avg time spent on new landing page\n",
    "<br>$H_{0}$: u1 = u2\n",
    "<br> $H_{a}$: u1 < u2"
   ]
  },
  {
   "cell_type": "code",
   "execution_count": 319,
   "id": "3b3d77d0",
   "metadata": {},
   "outputs": [],
   "source": [
    "a = data[(data[\"landing_page\"]==\"old\")] #slicing the dataframe to get us only values where landing page is \"old\"\n",
    "b = data[(data[\"landing_page\"]==\"new\")] #slicing the dataframe to get us only values where landing page is \"new\""
   ]
  },
  {
   "cell_type": "code",
   "execution_count": 320,
   "id": "a8147efc",
   "metadata": {},
   "outputs": [
    {
     "name": "stdout",
     "output_type": "stream",
     "text": [
      "The p-value is  0.0001392381225166549\n"
     ]
    }
   ],
   "source": [
    "from scipy.stats import ttest_ind #import the proper scipy test\n",
    "\n",
    "# find the p-value using the 2 sample indepedent t-test\n",
    "test_stat, p_value = ttest_ind(b['time_spent_on_the_page'], a['time_spent_on_the_page'].dropna(), equal_var = False, alternative = 'greater')\n",
    "print('The p-value is ', p_value)"
   ]
  },
  {
   "cell_type": "markdown",
   "id": "fddba0bb",
   "metadata": {},
   "source": [
    "### Insight\n",
    "Since the p-value (~0.0001) is far lesser than the significane level of 0.05, we can comfortably reject the null hypothesis.\n",
    "<br> We have the statistical evidence to say that those using the new landing page spend an average of more time on the page at the 5% significance level."
   ]
  },
  {
   "cell_type": "markdown",
   "id": "5ec39855",
   "metadata": {},
   "source": [
    "## Q3. Is the conversion rate (the proportion of users who visit the landing page and get converted) for the new page greater than the conversion rate for the old page?"
   ]
  },
  {
   "cell_type": "code",
   "execution_count": 321,
   "id": "7a12ca4b",
   "metadata": {},
   "outputs": [
    {
     "data": {
      "image/png": "[encoded data removed]",
      "text/plain": [
       "<Figure size 432x288 with 1 Axes>"
      ]
     },
     "metadata": {
      "needs_background": "light"
     },
     "output_type": "display_data"
    }
   ],
   "source": [
    "ax1 = data.groupby(['landing_page'])['converted'].value_counts().plot(kind='bar',stacked = True) #plots how many people converted and received the new or old landing page "
   ]
  },
  {
   "cell_type": "markdown",
   "id": "f7b9973b",
   "metadata": {},
   "source": [
    "From this graph, we can tell that those who received the new landing page were more likely to convert than those who received the old landing page. Let's use hypothesis testing to see if we can reject the hypothesis that old and new landing page users are equally likely to convert."
   ]
  },
  {
   "cell_type": "markdown",
   "id": "79e26bef",
   "metadata": {},
   "source": [
    "Since we are using proportions, lets test to see if we can use the proportions Z-test by seeing if our data meets the assumptions.\n",
    "\n",
    "### Assumptions\n",
    "Binomially distrubted - yes, users either convert or do not convert\n",
    "<br> We know there is random sampling\n",
    "<br> The binomial distribution can be approximated to normal distribution because np and n(1-p) are both greather than 10.\n",
    "<br>We can use the Z-test."
   ]
  },
  {
   "cell_type": "markdown",
   "id": "fb065ef8",
   "metadata": {},
   "source": [
    "### Hypotheses\n",
    "<br>p1 = conversion rate of users who visit old page\n",
    "<br> p2 = conversion rate of users who visit new page\n",
    "<br> $H_{0}$ : p1 = p2\n",
    "<br> $H_{a}$: p1 $\\neq$ p2"
   ]
  },
  {
   "cell_type": "code",
   "execution_count": 322,
   "id": "e3fb1751",
   "metadata": {},
   "outputs": [
    {
     "name": "stdout",
     "output_type": "stream",
     "text": [
      "no     29\n",
      "yes    21\n",
      "Name: converted, dtype: int64\n",
      "yes    33\n",
      "no     17\n",
      "Name: converted, dtype: int64\n"
     ]
    }
   ],
   "source": [
    "print(a['converted'].value_counts()) #counts how many \"yes\" values there are for converted old landing page users\n",
    "print(b['converted'].value_counts()) #counts how many \"yes\" values there are for converted new landing page users"
   ]
  },
  {
   "cell_type": "code",
   "execution_count": 323,
   "id": "2ebca3b6",
   "metadata": {},
   "outputs": [
    {
     "name": "stdout",
     "output_type": "stream",
     "text": [
      "The p-value is 0.016052616408112556\n"
     ]
    }
   ],
   "source": [
    "from statsmodels.stats.proportion import proportions_ztest #import the proportions Z-test from statsmodels\n",
    "\n",
    "\n",
    "c_count = np.array([21, 33]) #stores the number of conversions from both groups\n",
    "\n",
    "n = np.array([50, 50]) #stores the sample sizes from both groups\n",
    "\n",
    "test_stat, p_value = proportions_ztest(c_count, n) #uses the statsmodels proportions Z-test to find the p-value\n",
    "print('The p-value is ' + str(p_value))"
   ]
  },
  {
   "cell_type": "markdown",
   "id": "2472cc95",
   "metadata": {},
   "source": [
    "### Insight\n",
    "Since the p-value (~0.01) is lesser than the significance level of 0.05, we can reject the null hypothesis.\n",
    "<br>We have the statistical evidence to say that those using the old landing page are not equally likely to convert (subscribe) \n",
    "<br> as those using the new landing page at the 5% significance level."
   ]
  },
  {
   "cell_type": "markdown",
   "id": "0ee2d9b0",
   "metadata": {},
   "source": [
    "## Q4. Does the converted status depend on the preferred language?"
   ]
  },
  {
   "cell_type": "code",
   "execution_count": 324,
   "id": "4424fd6e",
   "metadata": {},
   "outputs": [
    {
     "data": {
      "text/plain": [
       "<AxesSubplot:xlabel='language_preferred', ylabel='Count'>"
      ]
     },
     "execution_count": 324,
     "metadata": {},
     "output_type": "execute_result"
    },
    {
     "data": {
      "image/png": "[encoded data removed]",
      "text/plain": [
       "<Figure size 432x288 with 1 Axes>"
      ]
     },
     "metadata": {
      "needs_background": "light"
     },
     "output_type": "display_data"
    }
   ],
   "source": [
    "sns.histplot(binwidth=0.1, x=\"language_preferred\", hue=\"converted\", data=data, stat=\"count\", multiple=\"dodge\") \n",
    "#this plot shows us if there is any dependence between conversion and language preferred."
   ]
  },
  {
   "cell_type": "markdown",
   "id": "3305d532",
   "metadata": {},
   "source": [
    "While it does look like preferred English speakers are more likely to convert and preferred French readers are less likely to convert, it is hard to get a good grasp on this from just a visual.\n",
    "Let's do a hypothesis test to confirm or deny that preferred language and coversion are independent.\n"
   ]
  },
  {
   "cell_type": "markdown",
   "id": "eb180181",
   "metadata": {},
   "source": [
    "### Assumptions\n",
    "Since our data is random, has more than 5 samples, and are categorical variables, lets use a chi test for independence. We can start by making a cross tab of the variables. "
   ]
  },
  {
   "cell_type": "markdown",
   "id": "af5437ed",
   "metadata": {},
   "source": [
    "### Hypotheses\n",
    "$H_{0}$ : Conversion is indepdent of language preference\n",
    "<br>  $H_{a}$: Conversion depends on language preference"
   ]
  },
  {
   "cell_type": "code",
   "execution_count": 325,
   "id": "9009d0ad",
   "metadata": {},
   "outputs": [
    {
     "data": {
      "text/html": [
       "<div>\n",
       "<style scoped>\n",
       "    .dataframe tbody tr th:only-of-type {\n",
       "        vertical-align: middle;\n",
       "    }\n",
       "\n",
       "    .dataframe tbody tr th {\n",
       "        vertical-align: top;\n",
       "    }\n",
       "\n",
       "    .dataframe thead th {\n",
       "        text-align: right;\n",
       "    }\n",
       "</style>\n",
       "<table border=\"1\" class=\"dataframe\">\n",
       "  <thead>\n",
       "    <tr style=\"text-align: right;\">\n",
       "      <th>language_preferred</th>\n",
       "      <th>English</th>\n",
       "      <th>French</th>\n",
       "      <th>Spanish</th>\n",
       "      <th>All</th>\n",
       "    </tr>\n",
       "    <tr>\n",
       "      <th>converted</th>\n",
       "      <th></th>\n",
       "      <th></th>\n",
       "      <th></th>\n",
       "      <th></th>\n",
       "    </tr>\n",
       "  </thead>\n",
       "  <tbody>\n",
       "    <tr>\n",
       "      <th>no</th>\n",
       "      <td>11</td>\n",
       "      <td>19</td>\n",
       "      <td>16</td>\n",
       "      <td>46</td>\n",
       "    </tr>\n",
       "    <tr>\n",
       "      <th>yes</th>\n",
       "      <td>21</td>\n",
       "      <td>15</td>\n",
       "      <td>18</td>\n",
       "      <td>54</td>\n",
       "    </tr>\n",
       "    <tr>\n",
       "      <th>All</th>\n",
       "      <td>32</td>\n",
       "      <td>34</td>\n",
       "      <td>34</td>\n",
       "      <td>100</td>\n",
       "    </tr>\n",
       "  </tbody>\n",
       "</table>\n",
       "</div>"
      ],
      "text/plain": [
       "language_preferred  English  French  Spanish  All\n",
       "converted                                        \n",
       "no                       11      19       16   46\n",
       "yes                      21      15       18   54\n",
       "All                      32      34       34  100"
      ]
     },
     "execution_count": 325,
     "metadata": {},
     "output_type": "execute_result"
    }
   ],
   "source": [
    "ct = pd.crosstab(index=data['converted'], columns=data['language_preferred'],margins=True) #creates a crosstab of the dataframe with only language and converted varaibles.\n",
    "ct"
   ]
  },
  {
   "cell_type": "code",
   "execution_count": 326,
   "id": "4c97a188",
   "metadata": {
    "scrolled": true
   },
   "outputs": [
    {
     "name": "stdout",
     "output_type": "stream",
     "text": [
      "The p-value is 0.5423794382417754\n"
     ]
    }
   ],
   "source": [
    "from scipy.stats import chi2_contingency #imports chi-square dependency test function from scipy\n",
    "\n",
    "chi, p_value, dof, expected = chi2_contingency(ct.drop('All',axis=1)) #calcuates the p-value\n",
    "print('The p-value is', p_value)"
   ]
  },
  {
   "cell_type": "markdown",
   "id": "c695e57b",
   "metadata": {},
   "source": [
    "### Insight\n",
    "\n",
    "Since the p-value is greater than the significance level of 0.05, we fail to reject the null hypothesis that conversion is independent of language preference at the 5% significance level.\n"
   ]
  },
  {
   "cell_type": "markdown",
   "id": "48aee405",
   "metadata": {},
   "source": [
    "## Q5. Is the mean time spent on the new page same for the different language users?"
   ]
  },
  {
   "cell_type": "code",
   "execution_count": 327,
   "id": "e3ace8ac",
   "metadata": {},
   "outputs": [
    {
     "name": "stdout",
     "output_type": "stream",
     "text": [
      "language_preferred\n",
      "English    6.663750\n",
      "French     6.196471\n",
      "Spanish    5.835294\n",
      "Name: time_spent_on_the_page, dtype: float64\n"
     ]
    },
    {
     "data": {
      "image/png": "[encoded data removed]",
      "text/plain": [
       "<Figure size 432x432 with 1 Axes>"
      ]
     },
     "metadata": {
      "needs_background": "light"
     },
     "output_type": "display_data"
    }
   ],
   "source": [
    "#b is the dataframe that we made by slicing our original dataframe to only include users who received the new landing page.\n",
    "print(b.groupby(\"language_preferred\")[\"time_spent_on_the_page\"].mean()) #prints the mean of time spent on page by language preference\n",
    "\n",
    "# creates the boxplot for visualization \n",
    "fig, ax = plt.subplots(figsize = (6,6))\n",
    "a = sns.boxplot(x= \"language_preferred\", y = 'time_spent_on_the_page' , data = b, hue = 'language_preferred')\n",
    "a.set_title(\"Time Spent on Landing Page by Language Preference\", fontsize=15)\n",
    "plt.show()"
   ]
  },
  {
   "cell_type": "markdown",
   "id": "0eacc061",
   "metadata": {},
   "source": [
    "From this boxplot, we can see that the means of time spent on the landing page slightly varies per language preference"
   ]
  },
  {
   "cell_type": "markdown",
   "id": "c9a7e94b",
   "metadata": {},
   "source": [
    "To test to see if all the means are the same, we need to use an ANOVA test. We must make sure our data satisfies the ANOVA assumptions. We need to do 2 tests to determine if the data is normal and has equal variance.  We need to do the Shapiro-Wilk's test and the Levene's test.  Let's start with the Shapiro-Wilk's test to test for normality."
   ]
  },
  {
   "cell_type": "markdown",
   "id": "adf4b42b",
   "metadata": {},
   "source": [
    "### Shapiro-Wilk's Test\n",
    "<br> $H_{0}$: Time spent on the page has normal distribution\n",
    "<br> $H_{a}$: Time spent on the page does not have a normal distribution"
   ]
  },
  {
   "cell_type": "code",
   "execution_count": 328,
   "id": "c5684d14",
   "metadata": {},
   "outputs": [
    {
     "name": "stdout",
     "output_type": "stream",
     "text": [
      "The p-value is 0.8040016293525696\n"
     ]
    }
   ],
   "source": [
    "from scipy import stats  #imports the required function to test normality\n",
    "\n",
    "# find the p-value\n",
    "w, p_value = stats.shapiro(b['time_spent_on_the_page']) \n",
    "print('The p-value is', p_value)"
   ]
  },
  {
   "cell_type": "markdown",
   "id": "0867df1a",
   "metadata": {},
   "source": [
    "Since our p-value was very large, we fail to reject the null hypothesis and can assume our data follow normal distribution.\n",
    "<br>Now lets test for equal variance."
   ]
  },
  {
   "cell_type": "markdown",
   "id": "2fb5ee15",
   "metadata": {},
   "source": [
    "### Levene's Test\n",
    "$H_{0}$: All the population variances are equal\n",
    "<br>$H_{a}$: at least one variance is different from the rest"
   ]
  },
  {
   "cell_type": "code",
   "execution_count": 329,
   "id": "801f352b",
   "metadata": {},
   "outputs": [
    {
     "name": "stdout",
     "output_type": "stream",
     "text": [
      "The p-value is 0.46711357711340173\n"
     ]
    }
   ],
   "source": [
    "from scipy.stats import levene #imports proper package for levene function\n",
    "statistic, p_value = levene(b['time_spent_on_the_page'][b['language_preferred']==\"English\"], #function to test homogeneity of variance\n",
    "                                   b['time_spent_on_the_page'][b['language_preferred']==\"French\"], \n",
    "                                   b['time_spent_on_the_page'][b['language_preferred']==\"Spanish\"])\n",
    "print('The p-value is', p_value)"
   ]
  },
  {
   "cell_type": "markdown",
   "id": "ffa598ac",
   "metadata": {},
   "source": [
    "Since our p-value is greater than our level of significance, we fail to reject the null hypothesis of homogeneity of variances.\n"
   ]
  },
  {
   "cell_type": "markdown",
   "id": "f6fb3e71",
   "metadata": {},
   "source": [
    "### Assumptions\n",
    "Since our populations are normally distributed, the samples are independent, random samples, and our variances are equal, all of our assumptions are met for the ANOVA test."
   ]
  },
  {
   "cell_type": "markdown",
   "id": "6e345b0a",
   "metadata": {},
   "source": [
    "### Hypotheses\n",
    "u1, u2, u3 are the means of time spent on the landing page for English, French, and Spanish language preferred users.\n",
    "<br>$H_{0}$: u1 = u2 = u3\n",
    "<br>$H_{a}$: at least one language preference group has a different average time spent on the landing page than the rest."
   ]
  },
  {
   "cell_type": "code",
   "execution_count": 330,
   "id": "d7d350a5",
   "metadata": {},
   "outputs": [
    {
     "name": "stdout",
     "output_type": "stream",
     "text": [
      "The p-value is 0.43204138694325955\n"
     ]
    }
   ],
   "source": [
    "from scipy.stats import f_oneway  #imports our package to run test\n",
    "\n",
    "# perform one-way anova test\n",
    "test_stat, p_value = f_oneway(b.loc[b['language_preferred'] == 'English', 'time_spent_on_the_page'],\n",
    "                              b.loc[b['language_preferred'] == 'French', 'time_spent_on_the_page'],\n",
    "                              b.loc[b['language_preferred'] == 'Spanish', 'time_spent_on_the_page'])\n",
    "print('The p-value is ' + str(p_value))"
   ]
  },
  {
   "cell_type": "markdown",
   "id": "440bb299",
   "metadata": {},
   "source": [
    "### Insight\n",
    "Since our p-value is much greater than the significance level we can not reject the null hypothesis at the 5% signifcance level. We do NOT have enough statistical evidence to conclude that at least one language preference group has a different average time spent on the new landing page than the rest of them."
   ]
  },
  {
   "cell_type": "markdown",
   "id": "002b31cd",
   "metadata": {},
   "source": [
    "## Conclusion\n"
   ]
  },
  {
   "cell_type": "markdown",
   "id": "30c449cc",
   "metadata": {},
   "source": [
    "From our EDA and our hypothesis testing, we learned that users in the treatment group, who received the new landing page, spent more time on the landing page and were also more likely to convert (subscribe), regardless of language preference. We also tested to see if language preference had an impact on on how long a user spent on the landing page, as well as if conversion was dependent on language preference.  These tests were inconclusive and we could not say that the average time spent on the landing page or conversion was depedent on language preference. "
   ]
  },
  {
   "cell_type": "markdown",
   "id": "fedc2442",
   "metadata": {},
   "source": [
    "## Insights\n",
    "While we were not able to find any statistical significance that conversion or time spent on the landing page were dependent on language preference, it was abundantly clear that the new landing page lead to more users converting as well as spending more time on the landing page.\n",
    "\n",
    "My recommendation would be to switch to the new landing page for everyone.  \n",
    "\n"
   ]
  }
 ],
 "metadata": {
  "kernelspec": {
   "display_name": "Python 3",
   "language": "python",
   "name": "python3"
  },
  "language_info": {
   "codemirror_mode": {
    "name": "ipython",
    "version": 3
   },
   "file_extension": ".py",
   "mimetype": "text/x-python",
   "name": "python",
   "nbconvert_exporter": "python",
   "pygments_lexer": "ipython3",
   "version": "3.8.8"
  }
 },
 "nbformat": 4,
 "nbformat_minor": 5
}
