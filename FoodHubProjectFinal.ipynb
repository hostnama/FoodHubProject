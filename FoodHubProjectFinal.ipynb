{
 "cells": [
  {
   "cell_type": "markdown",
   "metadata": {},
   "source": [
    "# Project Python Foundations: FoodHub Data Analysis\n",
    "\n",
    "**Marks: 40**"
   ]
  },
  {
   "cell_type": "markdown",
   "metadata": {},
   "source": [
    "### Context\n",
    "\n",
    "The number of restaurants in New York is increasing day by day. Lots of students and busy professionals rely on those restaurants due to their hectic lifestyles. Online food delivery service is a great option for them. It provides them with good food from their favorite restaurants. A food aggregator company FoodHub offers access to multiple restaurants through a single smartphone app.\n",
    "\n",
    "The app allows the restaurants to receive a direct online order from a customer. The app assigns a delivery person from the company to pick up the order after it is confirmed by the restaurant. The delivery person then uses the map to reach the restaurant and waits for the food package. Once the food package is handed over to the delivery person, he/she confirms the pick-up in the app and travels to the customer's location to deliver the food. The delivery person confirms the drop-off in the app after delivering the food package to the customer. The customer can rate the order in the app. The food aggregator earns money by collecting a fixed margin of the delivery order from the restaurants.\n",
    "\n",
    "### Objective\n",
    "\n",
    "The food aggregator company has stored the data of the different orders made by the registered customers in their online portal. They want to analyze the data to get a fair idea about the demand of different restaurants which will help them in enhancing their customer experience. Suppose you are hired as a Data Scientist in this company and the Data Science team has shared some of the key questions that need to be answered. Perform the data analysis to find answers to these questions that will help the company to improve the business. \n",
    "\n",
    "### Data Description\n",
    "\n",
    "The data contains the different data related to a food order. The detailed data dictionary is given below.\n",
    "\n",
    "### Data Dictionary\n",
    "\n",
    "* order_id: Unique ID of the order\n",
    "* customer_id: ID of the customer who ordered the food\n",
    "* restaurant_name: Name of the restaurant\n",
    "* cuisine_type: Cuisine ordered by the customer\n",
    "* cost: Cost of the order\n",
    "* day_of_the_week: Indicates whether the order is placed on a weekday or weekend (The weekday is from Monday to Friday and the weekend is Saturday and Sunday)\n",
    "* rating: Rating given by the customer out of 5\n",
    "* food_preparation_time: Time (in minutes) taken by the restaurant to prepare the food. This is calculated by taking the difference between the timestamps of the restaurant's order confirmation and the delivery person's pick-up confirmation.\n",
    "* delivery_time: Time (in minutes) taken by the delivery person to deliver the food package. This is calculated by taking the difference between the timestamps of the delivery person's pick-up confirmation and drop-off information"
   ]
  },
  {
   "cell_type": "markdown",
   "metadata": {},
   "source": [
    "### Let us start by importing the required libraries"
   ]
  },
  {
   "cell_type": "code",
   "execution_count": 125,
   "metadata": {},
   "outputs": [],
   "source": [
    "# import libraries for data manipulation\n",
    "import numpy as np\n",
    "import pandas as pd\n",
    "\n",
    "# import libraries for data visualization\n",
    "import matplotlib.pyplot as plt\n",
    "import seaborn as sns\n"
   ]
  },
  {
   "cell_type": "markdown",
   "metadata": {},
   "source": [
    "### Understanding the structure of the data"
   ]
  },
  {
   "cell_type": "code",
   "execution_count": 126,
   "metadata": {
    "scrolled": true
   },
   "outputs": [
    {
     "data": {
      "text/html": [
       "<div>\n",
       "<style scoped>\n",
       "    .dataframe tbody tr th:only-of-type {\n",
       "        vertical-align: middle;\n",
       "    }\n",
       "\n",
       "    .dataframe tbody tr th {\n",
       "        vertical-align: top;\n",
       "    }\n",
       "\n",
       "    .dataframe thead th {\n",
       "        text-align: right;\n",
       "    }\n",
       "</style>\n",
       "<table border=\"1\" class=\"dataframe\">\n",
       "  <thead>\n",
       "    <tr style=\"text-align: right;\">\n",
       "      <th></th>\n",
       "      <th>order_id</th>\n",
       "      <th>customer_id</th>\n",
       "      <th>restaurant_name</th>\n",
       "      <th>cuisine_type</th>\n",
       "      <th>cost_of_the_order</th>\n",
       "      <th>day_of_the_week</th>\n",
       "      <th>rating</th>\n",
       "      <th>food_preparation_time</th>\n",
       "      <th>delivery_time</th>\n",
       "    </tr>\n",
       "  </thead>\n",
       "  <tbody>\n",
       "    <tr>\n",
       "      <th>0</th>\n",
       "      <td>1477147</td>\n",
       "      <td>337525</td>\n",
       "      <td>Hangawi</td>\n",
       "      <td>Korean</td>\n",
       "      <td>30.75</td>\n",
       "      <td>Weekend</td>\n",
       "      <td>Not given</td>\n",
       "      <td>25</td>\n",
       "      <td>20</td>\n",
       "    </tr>\n",
       "    <tr>\n",
       "      <th>1</th>\n",
       "      <td>1477685</td>\n",
       "      <td>358141</td>\n",
       "      <td>Blue Ribbon Sushi Izakaya</td>\n",
       "      <td>Japanese</td>\n",
       "      <td>12.08</td>\n",
       "      <td>Weekend</td>\n",
       "      <td>Not given</td>\n",
       "      <td>25</td>\n",
       "      <td>23</td>\n",
       "    </tr>\n",
       "    <tr>\n",
       "      <th>2</th>\n",
       "      <td>1477070</td>\n",
       "      <td>66393</td>\n",
       "      <td>Cafe Habana</td>\n",
       "      <td>Mexican</td>\n",
       "      <td>12.23</td>\n",
       "      <td>Weekday</td>\n",
       "      <td>5</td>\n",
       "      <td>23</td>\n",
       "      <td>28</td>\n",
       "    </tr>\n",
       "    <tr>\n",
       "      <th>3</th>\n",
       "      <td>1477334</td>\n",
       "      <td>106968</td>\n",
       "      <td>Blue Ribbon Fried Chicken</td>\n",
       "      <td>American</td>\n",
       "      <td>29.20</td>\n",
       "      <td>Weekend</td>\n",
       "      <td>3</td>\n",
       "      <td>25</td>\n",
       "      <td>15</td>\n",
       "    </tr>\n",
       "    <tr>\n",
       "      <th>4</th>\n",
       "      <td>1478249</td>\n",
       "      <td>76942</td>\n",
       "      <td>Dirty Bird to Go</td>\n",
       "      <td>American</td>\n",
       "      <td>11.59</td>\n",
       "      <td>Weekday</td>\n",
       "      <td>4</td>\n",
       "      <td>25</td>\n",
       "      <td>24</td>\n",
       "    </tr>\n",
       "  </tbody>\n",
       "</table>\n",
       "</div>"
      ],
      "text/plain": [
       "   order_id  customer_id            restaurant_name cuisine_type  \\\n",
       "0   1477147       337525                    Hangawi       Korean   \n",
       "1   1477685       358141  Blue Ribbon Sushi Izakaya     Japanese   \n",
       "2   1477070        66393                Cafe Habana      Mexican   \n",
       "3   1477334       106968  Blue Ribbon Fried Chicken     American   \n",
       "4   1478249        76942           Dirty Bird to Go     American   \n",
       "\n",
       "   cost_of_the_order day_of_the_week     rating  food_preparation_time  \\\n",
       "0              30.75         Weekend  Not given                     25   \n",
       "1              12.08         Weekend  Not given                     25   \n",
       "2              12.23         Weekday          5                     23   \n",
       "3              29.20         Weekend          3                     25   \n",
       "4              11.59         Weekday          4                     25   \n",
       "\n",
       "   delivery_time  \n",
       "0             20  \n",
       "1             23  \n",
       "2             28  \n",
       "3             15  \n",
       "4             24  "
      ]
     },
     "execution_count": 126,
     "metadata": {},
     "output_type": "execute_result"
    }
   ],
   "source": [
    "# read the data\n",
    "df = pd.read_csv('foodhub_order.csv')\n",
    "# returns the first 5 rows\n",
    "df.head()"
   ]
  },
  {
   "cell_type": "markdown",
   "metadata": {},
   "source": [
    "#### Observations:\n",
    "\n",
    "The DataFrame has 9 columns as mentioned in the Data Dictionary. Data in each row corresponds to the order placed by a customer."
   ]
  },
  {
   "cell_type": "markdown",
   "metadata": {},
   "source": [
    "### **Question 1:** Write the code to check the shape of the dataset and write your observations based on that. (0.5 mark)"
   ]
  },
  {
   "cell_type": "code",
   "execution_count": 127,
   "metadata": {},
   "outputs": [
    {
     "data": {
      "text/plain": [
       "(1898, 9)"
      ]
     },
     "execution_count": 127,
     "metadata": {},
     "output_type": "execute_result"
    }
   ],
   "source": [
    "df.shape #gives us (number of rows, number of columns)"
   ]
  },
  {
   "cell_type": "markdown",
   "metadata": {},
   "source": [
    "#### Observations: There are 1898 rows that represent order IDs and 9 columns of descriptive variables.\n"
   ]
  },
  {
   "cell_type": "markdown",
   "metadata": {},
   "source": [
    "### Question 2: Write the observations based on the below output from the info() method. (0.5 mark)"
   ]
  },
  {
   "cell_type": "code",
   "execution_count": 128,
   "metadata": {},
   "outputs": [
    {
     "name": "stdout",
     "output_type": "stream",
     "text": [
      "<class 'pandas.core.frame.DataFrame'>\n",
      "RangeIndex: 1898 entries, 0 to 1897\n",
      "Data columns (total 9 columns):\n",
      " #   Column                 Non-Null Count  Dtype  \n",
      "---  ------                 --------------  -----  \n",
      " 0   order_id               1898 non-null   int64  \n",
      " 1   customer_id            1898 non-null   int64  \n",
      " 2   restaurant_name        1898 non-null   object \n",
      " 3   cuisine_type           1898 non-null   object \n",
      " 4   cost_of_the_order      1898 non-null   float64\n",
      " 5   day_of_the_week        1898 non-null   object \n",
      " 6   rating                 1898 non-null   object \n",
      " 7   food_preparation_time  1898 non-null   int64  \n",
      " 8   delivery_time          1898 non-null   int64  \n",
      "dtypes: float64(1), int64(4), object(4)\n",
      "memory usage: 133.6+ KB\n"
     ]
    },
    {
     "data": {
      "text/plain": [
       "order_id                 0\n",
       "customer_id              0\n",
       "restaurant_name          0\n",
       "cuisine_type             0\n",
       "cost_of_the_order        0\n",
       "day_of_the_week          0\n",
       "rating                   0\n",
       "food_preparation_time    0\n",
       "delivery_time            0\n",
       "dtype: int64"
      ]
     },
     "execution_count": 128,
     "metadata": {},
     "output_type": "execute_result"
    }
   ],
   "source": [
    "# use info() to print a concise summary of the DataFrame\n",
    "df.info()\n",
    "df.isnull().sum() #for me to double check that I interpreted df.info correctly."
   ]
  },
  {
   "cell_type": "markdown",
   "metadata": {},
   "source": [
    "#### Observations: There are 1898 orders with descriptive data with 4 types being integers, 4 being decimals, and 4 being objects. There are 1898 non-null values in each column, which means the data has already been cleaned. I double checked this with df.isnull().sum() to be sure that is what it meant.\n"
   ]
  },
  {
   "cell_type": "markdown",
   "metadata": {},
   "source": [
    "### Question 3: 'restaurant_name', 'cuisine_type', 'day_of_the_week' are object types. Write the code to convert the mentioned features to 'category' and write your observations on the same. (0.5 mark)"
   ]
  },
  {
   "cell_type": "code",
   "execution_count": 129,
   "metadata": {},
   "outputs": [
    {
     "name": "stdout",
     "output_type": "stream",
     "text": [
      "<class 'pandas.core.frame.DataFrame'>\n",
      "RangeIndex: 1898 entries, 0 to 1897\n",
      "Data columns (total 9 columns):\n",
      " #   Column                 Non-Null Count  Dtype   \n",
      "---  ------                 --------------  -----   \n",
      " 0   order_id               1898 non-null   int64   \n",
      " 1   customer_id            1898 non-null   int64   \n",
      " 2   restaurant_name        1898 non-null   category\n",
      " 3   cuisine_type           1898 non-null   category\n",
      " 4   cost_of_the_order      1898 non-null   float64 \n",
      " 5   day_of_the_week        1898 non-null   category\n",
      " 6   rating                 1898 non-null   object  \n",
      " 7   food_preparation_time  1898 non-null   int64   \n",
      " 8   delivery_time          1898 non-null   int64   \n",
      "dtypes: category(3), float64(1), int64(4), object(1)\n",
      "memory usage: 102.7+ KB\n"
     ]
    }
   ],
   "source": [
    "# coverting \"objects\" to \"category\" reduces the data space required to store the dataframe\n",
    "# write the code to convert 'restaurant_name', 'cuisine_type', 'day_of_the_week' into categorical data\n",
    "\n",
    "# use info() to print a concise summary of the DataFrame\n",
    "columns = ['restaurant_name', 'cuisine_type', 'day_of_the_week'] #variable stores the three columns we wants to change\n",
    "df[columns] = df[columns].astype('category') #.astype changes the variables from object to category\n",
    "df.info()"
   ]
  },
  {
   "cell_type": "markdown",
   "metadata": {},
   "source": [
    "#### Observations: I defined a variable \"columns\" to store the column names in the dataframe. Then used accessed the columns within the dataframe with df[columns] and used .astype to change the data type from object to category.\n"
   ]
  },
  {
   "cell_type": "markdown",
   "metadata": {},
   "source": [
    "### **Question 4:** Write the code to find the summary statistics and write your observations based on that. (1 mark)"
   ]
  },
  {
   "cell_type": "code",
   "execution_count": 130,
   "metadata": {},
   "outputs": [
    {
     "data": {
      "text/html": [
       "<div>\n",
       "<style scoped>\n",
       "    .dataframe tbody tr th:only-of-type {\n",
       "        vertical-align: middle;\n",
       "    }\n",
       "\n",
       "    .dataframe tbody tr th {\n",
       "        vertical-align: top;\n",
       "    }\n",
       "\n",
       "    .dataframe thead th {\n",
       "        text-align: right;\n",
       "    }\n",
       "</style>\n",
       "<table border=\"1\" class=\"dataframe\">\n",
       "  <thead>\n",
       "    <tr style=\"text-align: right;\">\n",
       "      <th></th>\n",
       "      <th>order_id</th>\n",
       "      <th>customer_id</th>\n",
       "      <th>cost_of_the_order</th>\n",
       "      <th>food_preparation_time</th>\n",
       "      <th>delivery_time</th>\n",
       "    </tr>\n",
       "  </thead>\n",
       "  <tbody>\n",
       "    <tr>\n",
       "      <th>count</th>\n",
       "      <td>1.898000e+03</td>\n",
       "      <td>1898.000000</td>\n",
       "      <td>1898.000000</td>\n",
       "      <td>1898.000000</td>\n",
       "      <td>1898.000000</td>\n",
       "    </tr>\n",
       "    <tr>\n",
       "      <th>mean</th>\n",
       "      <td>1.477496e+06</td>\n",
       "      <td>171168.478398</td>\n",
       "      <td>16.498851</td>\n",
       "      <td>27.371970</td>\n",
       "      <td>24.161749</td>\n",
       "    </tr>\n",
       "    <tr>\n",
       "      <th>std</th>\n",
       "      <td>5.480497e+02</td>\n",
       "      <td>113698.139743</td>\n",
       "      <td>7.483812</td>\n",
       "      <td>4.632481</td>\n",
       "      <td>4.972637</td>\n",
       "    </tr>\n",
       "    <tr>\n",
       "      <th>min</th>\n",
       "      <td>1.476547e+06</td>\n",
       "      <td>1311.000000</td>\n",
       "      <td>4.470000</td>\n",
       "      <td>20.000000</td>\n",
       "      <td>15.000000</td>\n",
       "    </tr>\n",
       "    <tr>\n",
       "      <th>25%</th>\n",
       "      <td>1.477021e+06</td>\n",
       "      <td>77787.750000</td>\n",
       "      <td>12.080000</td>\n",
       "      <td>23.000000</td>\n",
       "      <td>20.000000</td>\n",
       "    </tr>\n",
       "    <tr>\n",
       "      <th>50%</th>\n",
       "      <td>1.477496e+06</td>\n",
       "      <td>128600.000000</td>\n",
       "      <td>14.140000</td>\n",
       "      <td>27.000000</td>\n",
       "      <td>25.000000</td>\n",
       "    </tr>\n",
       "    <tr>\n",
       "      <th>75%</th>\n",
       "      <td>1.477970e+06</td>\n",
       "      <td>270525.000000</td>\n",
       "      <td>22.297500</td>\n",
       "      <td>31.000000</td>\n",
       "      <td>28.000000</td>\n",
       "    </tr>\n",
       "    <tr>\n",
       "      <th>max</th>\n",
       "      <td>1.478444e+06</td>\n",
       "      <td>405334.000000</td>\n",
       "      <td>35.410000</td>\n",
       "      <td>35.000000</td>\n",
       "      <td>33.000000</td>\n",
       "    </tr>\n",
       "  </tbody>\n",
       "</table>\n",
       "</div>"
      ],
      "text/plain": [
       "           order_id    customer_id  cost_of_the_order  food_preparation_time  \\\n",
       "count  1.898000e+03    1898.000000        1898.000000            1898.000000   \n",
       "mean   1.477496e+06  171168.478398          16.498851              27.371970   \n",
       "std    5.480497e+02  113698.139743           7.483812               4.632481   \n",
       "min    1.476547e+06    1311.000000           4.470000              20.000000   \n",
       "25%    1.477021e+06   77787.750000          12.080000              23.000000   \n",
       "50%    1.477496e+06  128600.000000          14.140000              27.000000   \n",
       "75%    1.477970e+06  270525.000000          22.297500              31.000000   \n",
       "max    1.478444e+06  405334.000000          35.410000              35.000000   \n",
       "\n",
       "       delivery_time  \n",
       "count    1898.000000  \n",
       "mean       24.161749  \n",
       "std         4.972637  \n",
       "min        15.000000  \n",
       "25%        20.000000  \n",
       "50%        25.000000  \n",
       "75%        28.000000  \n",
       "max        33.000000  "
      ]
     },
     "execution_count": 130,
     "metadata": {},
     "output_type": "execute_result"
    }
   ],
   "source": [
    "# write your code here\n",
    "df.describe() #gives us summary stats."
   ]
  },
  {
   "cell_type": "markdown",
   "metadata": {},
   "source": [
    "#### Observations: The average cost of an order is 16.5, the average food prep time is 27.3 minutes, and the average delivery time is 24.2 minutes. At the highest end, customers may wait up to 68 minutes with prep time and delivery, and on the low end may only wait 35 minutes with prep time and delivery.\n"
   ]
  },
  {
   "cell_type": "markdown",
   "metadata": {},
   "source": [
    "### **Question 5:** How many orders are not rated? (0.5 mark)"
   ]
  },
  {
   "cell_type": "code",
   "execution_count": 131,
   "metadata": {},
   "outputs": [
    {
     "data": {
      "text/plain": [
       "Not given    736\n",
       "5            588\n",
       "4            386\n",
       "3            188\n",
       "Name: rating, dtype: int64"
      ]
     },
     "execution_count": 131,
     "metadata": {},
     "output_type": "execute_result"
    }
   ],
   "source": [
    "df['rating'].value_counts()"
   ]
  },
  {
   "cell_type": "markdown",
   "metadata": {},
   "source": [
    "#### Observations: Using value counts, we can see how many values there are for every rating. There are 736 orders that are not rated.\n"
   ]
  },
  {
   "cell_type": "markdown",
   "metadata": {},
   "source": [
    "### Exploratory Data Analysis (EDA)"
   ]
  },
  {
   "cell_type": "markdown",
   "metadata": {},
   "source": [
    "### Univariate Analysis"
   ]
  },
  {
   "cell_type": "markdown",
   "metadata": {},
   "source": [
    "### **Question 6:** Explore all the variables and provide observations on the distributions of all the relevant variables in the dataset. (5 marks)"
   ]
  },
  {
   "cell_type": "code",
   "execution_count": 155,
   "metadata": {},
   "outputs": [
    {
     "data": {
      "text/plain": [
       "<matplotlib.lines.Line2D at 0x21d9bdf6100>"
      ]
     },
     "execution_count": 155,
     "metadata": {},
     "output_type": "execute_result"
    },
    {
     "data": {
      "image/png": "[encoded data removed]",
      "text/plain": [
       "<Figure size 720x360 with 1 Axes>"
      ]
     },
     "metadata": {
      "needs_background": "light"
     },
     "output_type": "display_data"
    }
   ],
   "source": [
    "data = df['cost_of_the_order'] #creates new variable for cost of order column\n",
    "plt.figure(figsize=(10,5)) #makes plot wider\n",
    "plt.hist(data, color='g') \n",
    "plt.xlabel(\"price\") #labels the axes\n",
    "plt.ylabel('count') #labels the axes\n",
    "plt.axvline(data.mean(), color='m', linewidth=1)\n",
    "plt.axvline(data.median(), color='b', linestyle='solid', linewidth=1)\n",
    "plt.axvline(data.mode()[0], color='w', linestyle='solid', linewidth=1)"
   ]
  },
  {
   "cell_type": "code",
   "execution_count": 154,
   "metadata": {},
   "outputs": [
    {
     "data": {
      "text/plain": [
       "<matplotlib.lines.Line2D at 0x21d9bd797c0>"
      ]
     },
     "execution_count": 154,
     "metadata": {},
     "output_type": "execute_result"
    },
    {
     "data": {
      "image/png": "[encoded data removed]",
      "text/plain": [
       "<Figure size 720x360 with 1 Axes>"
      ]
     },
     "metadata": {
      "needs_background": "light"
     },
     "output_type": "display_data"
    }
   ],
   "source": [
    "data1 = df['food_preparation_time']\n",
    "plt.figure(figsize=(10,5)) #makes plot wider\n",
    "plt.hist(data1, color='g') \n",
    "plt.xlabel(\"time\") #labels the axes\n",
    "plt.ylabel('count') #labels the axes\n",
    "plt.axvline(data1.mean(), color='m', linewidth=1)\n",
    "plt.axvline(data1.median(), color='b', linestyle='solid', linewidth=1)\n",
    "plt.axvline(data1.mode()[0], color='w', linestyle='solid', linewidth=1)"
   ]
  },
  {
   "cell_type": "code",
   "execution_count": 134,
   "metadata": {},
   "outputs": [
    {
     "data": {
      "text/plain": [
       "<matplotlib.lines.Line2D at 0x21d9b435f40>"
      ]
     },
     "execution_count": 134,
     "metadata": {},
     "output_type": "execute_result"
    },
    {
     "data": {
      "image/png": "[encoded data removed]",
      "text/plain": [
       "<Figure size 1440x720 with 1 Axes>"
      ]
     },
     "metadata": {
      "needs_background": "light"
     },
     "output_type": "display_data"
    }
   ],
   "source": [
    "data2 = df['delivery_time']\n",
    "plt.figure(figsize=(20,10)) #makes plot wider\n",
    "plt.hist(data2, color='g') \n",
    "plt.xlabel(\"time\") #labels the axes\n",
    "plt.ylabel('count') #labels the axes\n",
    "plt.axvline(data2.mean(), color='m', linewidth=1)\n",
    "plt.axvline(data2.median(), color='b', linestyle='solid', linewidth=1)\n",
    "plt.axvline(data2.mode()[0], color='w', linestyle='solid', linewidth=1)"
   ]
  },
  {
   "cell_type": "code",
   "execution_count": 135,
   "metadata": {},
   "outputs": [
    {
     "data": {
      "text/plain": [
       "Weekend    1351\n",
       "Weekday     547\n",
       "Name: day_of_the_week, dtype: int64"
      ]
     },
     "execution_count": 135,
     "metadata": {},
     "output_type": "execute_result"
    }
   ],
   "source": [
    "df['day_of_the_week'].value_counts() #value counts of weekend and weekday"
   ]
  },
  {
   "cell_type": "code",
   "execution_count": 136,
   "metadata": {},
   "outputs": [
    {
     "data": {
      "text/plain": [
       "American          584\n",
       "Japanese          470\n",
       "Italian           298\n",
       "Chinese           215\n",
       "Mexican            77\n",
       "Indian             73\n",
       "Middle Eastern     49\n",
       "Mediterranean      46\n",
       "Thai               19\n",
       "French             18\n",
       "Southern           17\n",
       "Korean             13\n",
       "Spanish            12\n",
       "Vietnamese          7\n",
       "Name: cuisine_type, dtype: int64"
      ]
     },
     "execution_count": 136,
     "metadata": {},
     "output_type": "execute_result"
    }
   ],
   "source": [
    "df[\"cuisine_type\"].value_counts() #value counts of cousine types"
   ]
  },
  {
   "cell_type": "code",
   "execution_count": 137,
   "metadata": {},
   "outputs": [
    {
     "data": {
      "text/plain": [
       "Shake Shack                  219\n",
       "The Meatball Shop            132\n",
       "Blue Ribbon Sushi            119\n",
       "Blue Ribbon Fried Chicken     96\n",
       "Parm                          68\n",
       "                            ... \n",
       "Klong                          1\n",
       "Kambi Ramen House              1\n",
       "Il Bambino                     1\n",
       "Hunan Manor                    1\n",
       "Lamarca Pasta                  1\n",
       "Name: restaurant_name, Length: 178, dtype: int64"
      ]
     },
     "execution_count": 137,
     "metadata": {},
     "output_type": "execute_result"
    }
   ],
   "source": [
    "df['restaurant_name'].value_counts()"
   ]
  },
  {
   "cell_type": "markdown",
   "metadata": {},
   "source": [
    "### Observations The majority of orders are on weekends and the majority of orders are American, Japanese, Italian, and Chinese for cuisine type. For the price, we can see most obeservations are distributed in the first 4 bins, and can say that most of the data is between 10-25 dollars. The prep time is a litte more scattered, which shows how different the food may be to prepare due to other variables, such as cuisine type. The delivery time is averaged at 27 minutes, but is strongly distributed on the tail and head of the data.  This means that other variables are likely the reason the delivery times are so different for each order.  "
   ]
  },
  {
   "cell_type": "markdown",
   "metadata": {},
   "source": [
    "### Question 7: Write the code to find the top 5 restaurants that have received the highest number of orders. (1 mark)"
   ]
  },
  {
   "cell_type": "code",
   "execution_count": 138,
   "metadata": {},
   "outputs": [
    {
     "data": {
      "text/plain": [
       "Shake Shack                  219\n",
       "The Meatball Shop            132\n",
       "Blue Ribbon Sushi            119\n",
       "Blue Ribbon Fried Chicken     96\n",
       "Parm                          68\n",
       "                            ... \n",
       "Klong                          1\n",
       "Kambi Ramen House              1\n",
       "Il Bambino                     1\n",
       "Hunan Manor                    1\n",
       "Lamarca Pasta                  1\n",
       "Name: restaurant_name, Length: 178, dtype: int64"
      ]
     },
     "execution_count": 138,
     "metadata": {},
     "output_type": "execute_result"
    }
   ],
   "source": [
    "# using .value_counts() to see which restaurant has the most orders\n",
    "df['restaurant_name'].value_counts()"
   ]
  },
  {
   "cell_type": "markdown",
   "metadata": {},
   "source": [
    "#### Observations: Instead of creating a graph, I just used value counts to determine how many times the restaurant names appeared in the column.  We see that Shake Shack, The Meatball Shop, Blue Ribbon Sushi, Blue Ribbon Fried Chicken, and Parm are the most ordered restaurants. \n"
   ]
  },
  {
   "cell_type": "markdown",
   "metadata": {},
   "source": [
    "### Question 8: Write the code to find the most popular cuisine on weekends. (1 mark)"
   ]
  },
  {
   "cell_type": "code",
   "execution_count": 153,
   "metadata": {
    "scrolled": true
   },
   "outputs": [
    {
     "data": {
      "image/png": "[encoded data removed]",
      "text/plain": [
       "<Figure size 432x288 with 1 Axes>"
      ]
     },
     "metadata": {
      "needs_background": "light"
     },
     "output_type": "display_data"
    }
   ],
   "source": [
    "# write the code here\n",
    "sns.histplot(y=\"cuisine_type\", hue=\"day_of_the_week\", data=df)\n",
    "xlablel = 'Count'\n",
    "ylabel = 'cuisine_type'"
   ]
  },
  {
   "cell_type": "markdown",
   "metadata": {},
   "source": [
    "#### Observations: Using this histogram, with a day of the week hue, we can see that American cuisine is the most popular cuisine type on weekends, followed by Japanese, Italian, and French.\n"
   ]
  },
  {
   "cell_type": "markdown",
   "metadata": {},
   "source": [
    "### Question 9: Write the code to find the number of total orders where the cost is above 20 dollars. What is the percentage of such orders in the dataset?  (1 mark)"
   ]
  },
  {
   "cell_type": "code",
   "execution_count": 140,
   "metadata": {},
   "outputs": [
    {
     "name": "stdout",
     "output_type": "stream",
     "text": [
      "555\n",
      "0.2924130663856691\n"
     ]
    }
   ],
   "source": [
    "# write the code here\n",
    "new_df = df[(df['cost_of_the_order']>20)] #creates a new variable that stores the cost of the order when it is over $20.\n",
    "print(new_df.value_counts().sum()) #counts the number of orders over $20\n",
    "print(new_df.value_counts().sum()/df['cost_of_the_order'].value_counts().sum()) #divides the number of orders over $20 by all orders"
   ]
  },
  {
   "cell_type": "markdown",
   "metadata": {},
   "source": [
    "#### Observations: 29% of orders are above 20 dollars in the dataset.\n"
   ]
  },
  {
   "cell_type": "markdown",
   "metadata": {},
   "source": [
    "### Question 10: Write the code to find the mean delivery time based on this dataset. (1 mark)"
   ]
  },
  {
   "cell_type": "code",
   "execution_count": 141,
   "metadata": {},
   "outputs": [
    {
     "data": {
      "text/plain": [
       "24.161749209694417"
      ]
     },
     "execution_count": 141,
     "metadata": {},
     "output_type": "execute_result"
    }
   ],
   "source": [
    "# write the code here\n",
    "df['delivery_time'].mean()"
   ]
  },
  {
   "cell_type": "markdown",
   "metadata": {},
   "source": [
    "#### Observations: The average delivery time is 24.16 minutes across all orders.\n"
   ]
  },
  {
   "cell_type": "markdown",
   "metadata": {},
   "source": [
    "### Question 11: Suppose the company has decided to give a free coupon of 15 dollars to the customer who has spent the maximum amount on a single order. Write the code to find the ID of the customer along with the order details. (1 mark)"
   ]
  },
  {
   "cell_type": "code",
   "execution_count": 142,
   "metadata": {},
   "outputs": [
    {
     "data": {
      "text/plain": [
       "35.41"
      ]
     },
     "execution_count": 142,
     "metadata": {},
     "output_type": "execute_result"
    }
   ],
   "source": [
    "df['cost_of_the_order'].max() #use this to get the max cost of order"
   ]
  },
  {
   "cell_type": "code",
   "execution_count": 143,
   "metadata": {},
   "outputs": [
    {
     "data": {
      "text/plain": [
       "573"
      ]
     },
     "execution_count": 143,
     "metadata": {},
     "output_type": "execute_result"
    }
   ],
   "source": [
    "df['cost_of_the_order'].idxmax() #this tells us what the index is of the max cost of the order"
   ]
  },
  {
   "cell_type": "code",
   "execution_count": 144,
   "metadata": {},
   "outputs": [
    {
     "data": {
      "text/html": [
       "<div>\n",
       "<style scoped>\n",
       "    .dataframe tbody tr th:only-of-type {\n",
       "        vertical-align: middle;\n",
       "    }\n",
       "\n",
       "    .dataframe tbody tr th {\n",
       "        vertical-align: top;\n",
       "    }\n",
       "\n",
       "    .dataframe thead th {\n",
       "        text-align: right;\n",
       "    }\n",
       "</style>\n",
       "<table border=\"1\" class=\"dataframe\">\n",
       "  <thead>\n",
       "    <tr style=\"text-align: right;\">\n",
       "      <th></th>\n",
       "      <th>order_id</th>\n",
       "      <th>customer_id</th>\n",
       "      <th>restaurant_name</th>\n",
       "      <th>cuisine_type</th>\n",
       "      <th>cost_of_the_order</th>\n",
       "      <th>day_of_the_week</th>\n",
       "      <th>rating</th>\n",
       "      <th>food_preparation_time</th>\n",
       "      <th>delivery_time</th>\n",
       "    </tr>\n",
       "  </thead>\n",
       "  <tbody>\n",
       "    <tr>\n",
       "      <th>573</th>\n",
       "      <td>1477814</td>\n",
       "      <td>62359</td>\n",
       "      <td>Pylos</td>\n",
       "      <td>Mediterranean</td>\n",
       "      <td>35.41</td>\n",
       "      <td>Weekday</td>\n",
       "      <td>4</td>\n",
       "      <td>21</td>\n",
       "      <td>29</td>\n",
       "    </tr>\n",
       "  </tbody>\n",
       "</table>\n",
       "</div>"
      ],
      "text/plain": [
       "     order_id  customer_id restaurant_name   cuisine_type  cost_of_the_order  \\\n",
       "573   1477814        62359           Pylos  Mediterranean              35.41   \n",
       "\n",
       "    day_of_the_week rating  food_preparation_time  delivery_time  \n",
       "573         Weekday      4                     21             29  "
      ]
     },
     "execution_count": 144,
     "metadata": {},
     "output_type": "execute_result"
    }
   ],
   "source": [
    "df.iloc[[573]] #this outputs the entire row of the index where the cost of the order is at max."
   ]
  },
  {
   "cell_type": "markdown",
   "metadata": {},
   "source": [
    "#### Observations: Using .max() I figured out the highest order price was 35.41, then used .idxmax() to find the index of that row. Then using .iloc, I was able to output the entire row so I could see the all the order details.  The highest order was order 1477814 and it cost 35.41 dollars and was ordered by customer 62359 at the Mediterranean restaurant, Pylos.  It took 21 minutes to prepare and was delivered in 29 minutes.\n"
   ]
  },
  {
   "cell_type": "markdown",
   "metadata": {},
   "source": [
    "### Multivariate Analysis"
   ]
  },
  {
   "cell_type": "markdown",
   "metadata": {},
   "source": [
    "### Question 12: Perform bivariate/multivariate analysis to explore relationships between the important variables in the dataset. (7 marks)"
   ]
  },
  {
   "cell_type": "code",
   "execution_count": 145,
   "metadata": {},
   "outputs": [
    {
     "data": {
      "text/plain": [
       "<AxesSubplot:>"
      ]
     },
     "execution_count": 145,
     "metadata": {},
     "output_type": "execute_result"
    },
    {
     "data": {
      "image/png": "[encoded data removed]",
      "text/plain": [
       "<Figure size 432x288 with 2 Axes>"
      ]
     },
     "metadata": {
      "needs_background": "light"
     },
     "output_type": "display_data"
    }
   ],
   "source": [
    "sns.heatmap(df.corr(), annot=True,)"
   ]
  },
  {
   "cell_type": "code",
   "execution_count": 146,
   "metadata": {},
   "outputs": [
    {
     "data": {
      "text/html": [
       "<div>\n",
       "<style scoped>\n",
       "    .dataframe tbody tr th:only-of-type {\n",
       "        vertical-align: middle;\n",
       "    }\n",
       "\n",
       "    .dataframe tbody tr th {\n",
       "        vertical-align: top;\n",
       "    }\n",
       "\n",
       "    .dataframe thead th {\n",
       "        text-align: right;\n",
       "    }\n",
       "</style>\n",
       "<table border=\"1\" class=\"dataframe\">\n",
       "  <thead>\n",
       "    <tr style=\"text-align: right;\">\n",
       "      <th></th>\n",
       "      <th>order_id</th>\n",
       "      <th>customer_id</th>\n",
       "      <th>cost_of_the_order</th>\n",
       "      <th>food_preparation_time</th>\n",
       "      <th>delivery_time</th>\n",
       "    </tr>\n",
       "    <tr>\n",
       "      <th>day_of_the_week</th>\n",
       "      <th></th>\n",
       "      <th></th>\n",
       "      <th></th>\n",
       "      <th></th>\n",
       "      <th></th>\n",
       "    </tr>\n",
       "  </thead>\n",
       "  <tbody>\n",
       "    <tr>\n",
       "      <th>Weekday</th>\n",
       "      <td>1.477483e+06</td>\n",
       "      <td>173010.771481</td>\n",
       "      <td>16.311188</td>\n",
       "      <td>27.212066</td>\n",
       "      <td>28.340037</td>\n",
       "    </tr>\n",
       "    <tr>\n",
       "      <th>Weekend</th>\n",
       "      <td>1.477500e+06</td>\n",
       "      <td>170422.561066</td>\n",
       "      <td>16.574833</td>\n",
       "      <td>27.436714</td>\n",
       "      <td>22.470022</td>\n",
       "    </tr>\n",
       "  </tbody>\n",
       "</table>\n",
       "</div>"
      ],
      "text/plain": [
       "                     order_id    customer_id  cost_of_the_order  \\\n",
       "day_of_the_week                                                   \n",
       "Weekday          1.477483e+06  173010.771481          16.311188   \n",
       "Weekend          1.477500e+06  170422.561066          16.574833   \n",
       "\n",
       "                 food_preparation_time  delivery_time  \n",
       "day_of_the_week                                        \n",
       "Weekday                      27.212066      28.340037  \n",
       "Weekend                      27.436714      22.470022  "
      ]
     },
     "execution_count": 146,
     "metadata": {},
     "output_type": "execute_result"
    }
   ],
   "source": [
    "df.groupby(['day_of_the_week']).mean() #use this to see if the average cost, prep time, and delivery time differ on weekend."
   ]
  },
  {
   "cell_type": "code",
   "execution_count": 147,
   "metadata": {},
   "outputs": [
    {
     "data": {
      "text/html": [
       "<div>\n",
       "<style scoped>\n",
       "    .dataframe tbody tr th:only-of-type {\n",
       "        vertical-align: middle;\n",
       "    }\n",
       "\n",
       "    .dataframe tbody tr th {\n",
       "        vertical-align: top;\n",
       "    }\n",
       "\n",
       "    .dataframe thead th {\n",
       "        text-align: right;\n",
       "    }\n",
       "</style>\n",
       "<table border=\"1\" class=\"dataframe\">\n",
       "  <thead>\n",
       "    <tr style=\"text-align: right;\">\n",
       "      <th></th>\n",
       "      <th>0</th>\n",
       "    </tr>\n",
       "    <tr>\n",
       "      <th>cuisine_type</th>\n",
       "      <th></th>\n",
       "    </tr>\n",
       "  </thead>\n",
       "  <tbody>\n",
       "    <tr>\n",
       "      <th>American</th>\n",
       "      <td>584</td>\n",
       "    </tr>\n",
       "    <tr>\n",
       "      <th>Japanese</th>\n",
       "      <td>470</td>\n",
       "    </tr>\n",
       "    <tr>\n",
       "      <th>Italian</th>\n",
       "      <td>298</td>\n",
       "    </tr>\n",
       "    <tr>\n",
       "      <th>Chinese</th>\n",
       "      <td>215</td>\n",
       "    </tr>\n",
       "    <tr>\n",
       "      <th>Mexican</th>\n",
       "      <td>77</td>\n",
       "    </tr>\n",
       "  </tbody>\n",
       "</table>\n",
       "</div>"
      ],
      "text/plain": [
       "                0\n",
       "cuisine_type     \n",
       "American      584\n",
       "Japanese      470\n",
       "Italian       298\n",
       "Chinese       215\n",
       "Mexican        77"
      ]
     },
     "execution_count": 147,
     "metadata": {},
     "output_type": "execute_result"
    }
   ],
   "source": [
    "pd.DataFrame(df.groupby('cuisine_type').size().nlargest(5))"
   ]
  },
  {
   "cell_type": "markdown",
   "metadata": {},
   "source": [
    "### Observations Using a pairplot made it difficult to see the relationships of all the variables, so instead I used a heatmap to show correlation.  From this, we can see the only two numerical and significant variables that are related are prep time and cost of the order. Likely because a higher cost means more food, and more food means more time to prep. But correlation does not equal causation, so that is only a hypothesis. We can also see from this groupby chart that the delivery time for weekdays is longer than the delivery time for weekends. Lastly, comparing the number of orders and cuisine type, we can see the top 5 types of cuisine that is frequently ordered for delivery.  "
   ]
  },
  {
   "cell_type": "markdown",
   "metadata": {},
   "source": [
    "### Question 13: Suppose the company wants to provide a promotional offer in the advertisement of the restaurants. The condition to get the offer is that the restaurants must have a rating count of more than 50 and the average rating should be greater than 4. Write the code to find the restaurants fulfilling the criteria to get the promotional offer. (2 marks)"
   ]
  },
  {
   "cell_type": "code",
   "execution_count": 148,
   "metadata": {},
   "outputs": [
    {
     "data": {
      "text/html": [
       "<div>\n",
       "<style scoped>\n",
       "    .dataframe tbody tr th:only-of-type {\n",
       "        vertical-align: middle;\n",
       "    }\n",
       "\n",
       "    .dataframe tbody tr th {\n",
       "        vertical-align: top;\n",
       "    }\n",
       "\n",
       "    .dataframe thead th {\n",
       "        text-align: right;\n",
       "    }\n",
       "</style>\n",
       "<table border=\"1\" class=\"dataframe\">\n",
       "  <thead>\n",
       "    <tr style=\"text-align: right;\">\n",
       "      <th></th>\n",
       "      <th>ratings</th>\n",
       "      <th>avg_rating</th>\n",
       "    </tr>\n",
       "    <tr>\n",
       "      <th>restaurant_name</th>\n",
       "      <th></th>\n",
       "      <th></th>\n",
       "    </tr>\n",
       "  </thead>\n",
       "  <tbody>\n",
       "    <tr>\n",
       "      <th>Blue Ribbon Fried Chicken</th>\n",
       "      <td>64</td>\n",
       "      <td>4.328125</td>\n",
       "    </tr>\n",
       "    <tr>\n",
       "      <th>Blue Ribbon Sushi</th>\n",
       "      <td>73</td>\n",
       "      <td>4.219178</td>\n",
       "    </tr>\n",
       "    <tr>\n",
       "      <th>Shake Shack</th>\n",
       "      <td>133</td>\n",
       "      <td>4.278195</td>\n",
       "    </tr>\n",
       "    <tr>\n",
       "      <th>The Meatball Shop</th>\n",
       "      <td>84</td>\n",
       "      <td>4.511905</td>\n",
       "    </tr>\n",
       "  </tbody>\n",
       "</table>\n",
       "</div>"
      ],
      "text/plain": [
       "                           ratings  avg_rating\n",
       "restaurant_name                               \n",
       "Blue Ribbon Fried Chicken       64    4.328125\n",
       "Blue Ribbon Sushi               73    4.219178\n",
       "Shake Shack                    133    4.278195\n",
       "The Meatball Shop               84    4.511905"
      ]
     },
     "execution_count": 148,
     "metadata": {},
     "output_type": "execute_result"
    }
   ],
   "source": [
    "newdf = df[['restaurant_name','rating']] #creating a makeshift dataframe with only columns 'restaurant name' and 'rating'\n",
    "newdf = newdf[newdf.rating != 'Not given'] #excluding all values that are 'not given' in rating\n",
    "newdf['rating'] = newdf['rating'].astype('int') #turning rating into an integer variable\n",
    "\n",
    "\n",
    "\n",
    "df1 = newdf.groupby('restaurant_name').count()\n",
    "df2 = newdf.groupby('restaurant_name').mean()\n",
    "df1.columns=['ratings']\n",
    "df2.columns=['avg_rating']\n",
    "df3 = pd.concat([df1 , df2], axis=1)\n",
    "\n",
    "df3[(df3['ratings']>50)]\n"
   ]
  },
  {
   "cell_type": "markdown",
   "metadata": {},
   "source": [
    "#### Observations: After converting rating into an integer, we created two new dataframes to store the number of ratings and average rating, grouped by restaurant name.  After concatting the dataframes into one, and applying my filter of number of ratings > 50, we see that Blue Ribbon Fried Chicken, Blue Ribbon Sushi, Shake Shack, and The Meatball Shop were the only restaurants to meet the criteria for the promotion.\n"
   ]
  },
  {
   "cell_type": "markdown",
   "metadata": {},
   "source": [
    "### Question 14: Suppose the company charges the restaurant 25% on the orders having cost greater than 20 dollars and 15% on the orders having cost greater than 5 dollars. Write the code to find the net revenue generated on all the orders given in the dataset. (2 marks)"
   ]
  },
  {
   "cell_type": "code",
   "execution_count": 149,
   "metadata": {},
   "outputs": [
    {
     "data": {
      "text/plain": [
       "cost_of_the_order    6166.303\n",
       "dtype: float64"
      ]
     },
     "execution_count": 149,
     "metadata": {},
     "output_type": "execute_result"
    }
   ],
   "source": [
    "# write the code here\n",
    "cost=df[['cost_of_the_order']]\n",
    "cost_20 = cost[cost.cost_of_the_order > 20]\n",
    "cost_5 = cost[(cost['cost_of_the_order'] > 5) & (cost['cost_of_the_order'] <=20)]\n",
    "\n",
    "Revenue = cost_20.sum() * 0.25 + cost_5.sum() * 0.15\n",
    "Revenue"
   ]
  },
  {
   "cell_type": "markdown",
   "metadata": {},
   "source": [
    "#### Observations: First we created a new dataframe to store just the cost column of the original data frame.  Then we assign two filters. One to record all orders where the cost is greater than 20 dollars, and one to record all orders where the cost is between 5 and 20 dollars. Then we write a simple equation to multiply those sums by their revenue fees, and we get 6166.303.\n"
   ]
  },
  {
   "cell_type": "markdown",
   "metadata": {},
   "source": [
    "### Question 15: Suppose the company wants to analyze the total time required to deliver the food. Write the code to find out the percentage of orders that have more than 60 minutes of total delivery time. (2 marks)\n",
    "\n",
    "Note: The total delivery time is the summation of the food preparation time and delivery time. "
   ]
  },
  {
   "cell_type": "code",
   "execution_count": 150,
   "metadata": {},
   "outputs": [
    {
     "data": {
      "text/plain": [
       "10.537407797681771"
      ]
     },
     "execution_count": 150,
     "metadata": {},
     "output_type": "execute_result"
    }
   ],
   "source": [
    "# write the code here\n",
    "df['time'] = df['food_preparation_time'] + df['delivery_time'] #creates a new column in the data frame that adds the two time columns\n",
    "df[df['time']>60].count() #counts the number of orders where sum of time is greater than 60\n",
    "(df[df['time']>60]['time'].count()/df['time'].count()) * 100 #calculates the percentage of how many orders take over an hour total\n"
   ]
  },
  {
   "cell_type": "markdown",
   "metadata": {},
   "source": [
    "#### Observations: 10.54% of orders take longer than an hour to be delivered after ordering.  This is a potential problem for the service.\n"
   ]
  },
  {
   "cell_type": "markdown",
   "metadata": {},
   "source": [
    "### Question 16: Suppose the company wants to analyze the delivery time of the orders on weekdays and weekends. Write the code to find the mean delivery time on weekdays and weekends. Write your observations on the results. (2 marks)"
   ]
  },
  {
   "cell_type": "code",
   "execution_count": 151,
   "metadata": {},
   "outputs": [
    {
     "data": {
      "text/html": [
       "<div>\n",
       "<style scoped>\n",
       "    .dataframe tbody tr th:only-of-type {\n",
       "        vertical-align: middle;\n",
       "    }\n",
       "\n",
       "    .dataframe tbody tr th {\n",
       "        vertical-align: top;\n",
       "    }\n",
       "\n",
       "    .dataframe thead th {\n",
       "        text-align: right;\n",
       "    }\n",
       "</style>\n",
       "<table border=\"1\" class=\"dataframe\">\n",
       "  <thead>\n",
       "    <tr style=\"text-align: right;\">\n",
       "      <th></th>\n",
       "      <th>delivery_time</th>\n",
       "    </tr>\n",
       "    <tr>\n",
       "      <th>day_of_the_week</th>\n",
       "      <th></th>\n",
       "    </tr>\n",
       "  </thead>\n",
       "  <tbody>\n",
       "    <tr>\n",
       "      <th>Weekday</th>\n",
       "      <td>28.340037</td>\n",
       "    </tr>\n",
       "    <tr>\n",
       "      <th>Weekend</th>\n",
       "      <td>22.470022</td>\n",
       "    </tr>\n",
       "  </tbody>\n",
       "</table>\n",
       "</div>"
      ],
      "text/plain": [
       "                 delivery_time\n",
       "day_of_the_week               \n",
       "Weekday              28.340037\n",
       "Weekend              22.470022"
      ]
     },
     "execution_count": 151,
     "metadata": {},
     "output_type": "execute_result"
    }
   ],
   "source": [
    "# write the code here\n",
    "df4=df[['day_of_the_week','delivery_time']] #creates new dataframe with just day of the week and delivery time as columns\n",
    "df4.groupby(['day_of_the_week']).mean() #groups the data by day of the week, with delivery time as the column value.\n"
   ]
  },
  {
   "cell_type": "markdown",
   "metadata": {},
   "source": [
    "#### Observations: Surprisingly, FoodHub drivers deliver faster on weekends than on weekdays, on average.\n"
   ]
  },
  {
   "cell_type": "markdown",
   "metadata": {},
   "source": [
    "### Conclusion and Recommendations The average cost of an order is about 16.50, which is standard for delivery. Food prep time and delivery time, on average, is also standard, about 25 minutes for each.  American and Japanese cuisine are by far the most popular cuisines in the data sample.  For some reason, delivery time takes longer on weekdays than on weekends, despite weekends having more than double the orders than weekdays. \n"
   ]
  },
  {
   "cell_type": "markdown",
   "metadata": {},
   "source": [
    "### **Question 17:** Write the conclusions and business recommendations derived from the analysis. (5 marks)"
   ]
  },
  {
   "cell_type": "markdown",
   "metadata": {},
   "source": [
    "#### Insights: The glaring issue here, for me, is that out of 1898, 736 orders do not have a rating.  An option to fix this would be for FoodHub to offer promotions that encourage customers to rate their order after consumption.  Another issue is that total time (prep + deliver) is longer on the weekdays than on the weekends, despite the weekends having more than double the volume. This would lead me to believe these restaurants or FoodHub are understaffed on the weekdays.  There are 5 weekdays, and 2 weekend days a week, the weekdays are just as important to maintain quality and service.  It may be beneficial to offer delivery discounts on some of the most popular restaurants to increase the number of orders/users."
   ]
  }
 ],
 "metadata": {
  "kernelspec": {
   "display_name": "Python 3",
   "language": "python",
   "name": "python3"
  },
  "language_info": {
   "codemirror_mode": {
    "name": "ipython",
    "version": 3
   },
   "file_extension": ".py",
   "mimetype": "text/x-python",
   "name": "python",
   "nbconvert_exporter": "python",
   "pygments_lexer": "ipython3",
   "version": "3.8.8"
  }
 },
 "nbformat": 4,
 "nbformat_minor": 4
}
